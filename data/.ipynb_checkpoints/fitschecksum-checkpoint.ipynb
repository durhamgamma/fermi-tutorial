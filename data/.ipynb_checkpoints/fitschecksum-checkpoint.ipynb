{
 "cells": [
  {
   "cell_type": "code",
   "execution_count": 4,
   "metadata": {},
   "outputs": [],
   "source": [
    "#fits file tester\n",
    "import astropy.io.fits as pyfits\n",
    "fits = pyfits.open('L1910160544388E15477E08_PH00.fits')\n",
    "fits.verify()"
   ]
  },
  {
   "cell_type": "code",
   "execution_count": 5,
   "metadata": {},
   "outputs": [
    {
     "data": {
      "text/plain": [
       "SIMPLE  =                    T / file does conform to FITS standard             \n",
       "BITPIX  =                    8 / number of bits per data pixel                  \n",
       "NAXIS   =                    0 / number of data axes                            \n",
       "EXTEND  =                    T / FITS dataset may contain extensions            \n",
       "COMMENT   FITS (Flexible Image Transport System) format is defined in 'Astronomy\n",
       "COMMENT   and Astrophysics', volume 376, page 359; bibcode: 2001A&A...376..359H \n",
       "CHECKSUM= 'cFQac9QXcCQac9QU'   / HDU checksum updated 2019-10-16T09:44:46       \n",
       "TELESCOP= 'GLAST   '           / name of telescope generating data              \n",
       "INSTRUME= 'LAT     '           / name of instrument generating data             \n",
       "EQUINOX =                2000. / equinox for ra and dec                         \n",
       "RADECSYS= 'FK5     '           / world coord. system for this file (FK5 or FK4) \n",
       "DATE    = '2019-10-16T05:44:40' / file creation date (YYYY-MM-DDThh:mm:ss U     \n",
       "DATE-OBS= '2010-01-01T00:00:00.0000' / start date and time of the observation (U\n",
       "DATE-END= '2010-05-27T01:07:04.0000' / end date and time of the observation (UTC\n",
       "TSTART  =           283996802. / mission time of the start of the observation   \n",
       "TSTOP   =           296615226. / mission time of the end of the observation     \n",
       "TIMEUNIT= 's       '           / units for the time related keywords            \n",
       "TIMEZERO=                   0. / clock correction                               \n",
       "TIMESYS = 'TT      '           / type of time system that is used               \n",
       "TIMEREF = 'LOCAL   '           / reference frame used for times                 \n",
       "CLOCKAPP=                    F / whether a clock drift correction has been appli\n",
       "GPS_OUT =                    F / whether GPS time was unavailable at any time du\n",
       "MJDREFI =               51910. / Integer part of MJD corresponding to SC clock s\n",
       "MJDREFF =  0.00074287037037037 / Fractional part of MJD corresponding to SC cloc\n",
       "OBSERVER= 'Peter Michelson'    / GLAST/LAT PI                                   \n",
       "FILENAME= 'L1910160544388E15477E08_PH00.fits' / name of this file               \n",
       "ORIGIN  = 'FSSC    '           / name of organization making file               \n",
       "CREATOR = 'photonDatabase $Name:  $' / software and version creating file       \n",
       "VERSION = '305     '           / release version of the file                    \n",
       "PROC_VER=                  305 / processing version of this file                \n",
       "DATASUM = '         0'         / data unit checksum updated 2017-11-06T21:19:24 "
      ]
     },
     "execution_count": 5,
     "metadata": {},
     "output_type": "execute_result"
    }
   ],
   "source": [
    "fits[0].header\n"
   ]
  },
  {
   "cell_type": "code",
   "execution_count": null,
   "metadata": {},
   "outputs": [],
   "source": []
  }
 ],
 "metadata": {
  "kernelspec": {
   "display_name": "Python 2",
   "language": "python",
   "name": "python2"
  },
  "language_info": {
   "codemirror_mode": {
    "name": "ipython",
    "version": 2
   },
   "file_extension": ".py",
   "mimetype": "text/x-python",
   "name": "python",
   "nbconvert_exporter": "python",
   "pygments_lexer": "ipython2",
   "version": "2.7.15"
  }
 },
 "nbformat": 4,
 "nbformat_minor": 2
}
