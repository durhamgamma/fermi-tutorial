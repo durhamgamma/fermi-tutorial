{
 "cells": [
  {
   "cell_type": "markdown",
   "metadata": {},
   "source": [
    "# 1: The Fermi-LAT data"
   ]
  },
  {
   "cell_type": "markdown",
   "metadata": {},
   "source": [
    "## Introduction"
   ]
  },
  {
   "cell_type": "markdown",
   "metadata": {},
   "source": [
    "Hello Fermi initiate! \n",
    "\n",
    "In these tutorials you will be taken through your first Fermi-LAT analysis. \n",
    "\n",
    "We will look at:\n",
    "\n",
    "* What Fermi data looks like.\n",
    "* What the tools are, and what they do.\n",
    "* The Python interface to the tools.\n",
    "* Using a python package called Fermipy which will automate a lot of this for you.\n",
    "* Some more advanced point source analysis techniques.\n",
    "* Some other useful sources of information passed down through many generations of PhD students here in the group.\n",
    "* Some common (and highly irritating) errors with the Fermi software, and how to solve them.\n",
    "\n",
    "### Acknowledgements\n",
    "\n",
    "These tutorials are very much based on the earlier set of tutorials by Dr Jamie Graham. In some places this is almost word for word identical (as users of Linux know, if something works, don't change it!). In addition, the absolutely incredible Fermi team at NASA and the University of Delaware (Liz, Julie, Jamie Holder, Jeremy), and also the work of Durham alumni Dr Tom Armstrong and Dr Max Harvey. \n",
    "\n",
    "\"*Dale a tu cuerpo alegría Macarena,*\n",
    "\n",
    "*Que tu cuerpo es pa' darle alegría why cosa buena,*\n",
    "\n",
    "*Dale a tu cuerpo alegría, Macarena,*\n",
    "\n",
    "*Hey Macarena* \"\n",
    "\n",
    "### How do we get the Fermi data?\n",
    "\n",
    "The LAT data is stored at https://fermi.gsfc.nasa.gov/cgi-bin/ssc/LAT/LATDataQuery.cgi, and the page looks like this. \n",
    "\n",
    "![Data Server](../img/LATData.png)\n",
    "\n",
    "We're going to be looking at a particularly interesting source of $\\gamma$-rays, a reasonably bright and highly variable radio galaxy called NGC 1275 (studied in depth by Dr Anthony Brown and Dr Cameron Rulten here in the $\\gamma$-ray astronomy group at Durham). You can read Anthony's paper on [arXiv](https://arxiv.org/abs/1101.2687), but it isn't essential reading for this tutorial, just a good example of a Fermi paper.\n",
    "\n",
    "Firstly, lets check we're located in the correct directory for this tutorial. For tutorial 1 to work properly weneed to be inside the ```tutorial-1-fermidata``` directory."
   ]
  },
  {
   "cell_type": "code",
   "execution_count": null,
   "metadata": {},
   "outputs": [],
   "source": [
    "current_dir = %pwd\n",
    "print(current_dir)"
   ]
  },
  {
   "cell_type": "markdown",
   "metadata": {},
   "source": [
    "The query made to the data server in order to get the data used for this tutorial is saved in a file called ```data_query.dat```. Lets inspect this file by printing its contents:"
   ]
  },
  {
   "cell_type": "code",
   "execution_count": 5,
   "metadata": {},
   "outputs": [
    {
     "name": "stdout",
     "output_type": "stream",
     "text": [
      "Equatorial coordinates (degrees)\t(49.9507,41.5117)\n",
      "Time range (MET)\t(283996802,297043202)\n",
      "Time range (Gregorian)\t(2010-01-01 00:00:00,2010-06-01 00:00:00)\n",
      "Energy range (MeV)\t(100,500000)\n",
      "Search radius (degrees)\t15\n"
     ]
    }
   ],
   "source": [
    "!cat data_query.dat"
   ]
  },
  {
   "cell_type": "markdown",
   "metadata": {},
   "source": [
    "We can see we have to make a few choices in order to get our data from the server. Lets take a look at what we chose, and why.\n",
    "\n",
    "### Coordinates\n",
    "The equatorial coordinates simply refer to the right ascension (RA) and declination (DEC) of our target, NGC 1275 If you're unsure on RA and DEC... [you can find some background here](https://starwalk.space/en/news/celestial-coordinates). Note our RA is in degrees (it's simpler this way, trust us!).\n",
    "\n",
    "You can also use Galactic coordinates for this choice, which is particularly convenient if you're looking at $\\gamma$-ray sources on the Galactic plane.\n",
    "\n",
    "### Time Range\n",
    "Fermi launched in 2008, and has spent most of its time observing the whole sky, hence there is now about 16 years of public data available. Generally speaking, the more data we have in our analysis, the more photons we have, and often the better our results will be. That said, with variable sources (such as NGC 1275), source properties change over time, and we must investigate how this happens, but more on that later. For our study here, we have 5 months of data, to save on file space and computation time. You will find that a decade long analysis can take quite a while. The current record for a single analysis is 3 days (at Durham).\n",
    "\n",
    "We define time with Fermi in 3 ways. We have the Gregorian calendar, which is the calendar we use on a day to day basis. We also have the Modified Julian Calendar, which counts days in MJD. Finally, we have Mission Elapsed Time (MET). MET is expresed in seconds since a particular date in 2001, and is the preferred way to express Fermi time.\n",
    "\n",
    "You can use [NASA's online HEASARC xTime](https://heasarc.gsfc.nasa.gov/cgi-bin/Tools/xTime/xTime.pl) tool to convert between dates/times, but in general we should use MET.\n",
    "\n",
    "When we look at the time range in our Query, we see it runs from 2010-2011, even though we input it in MET. The data query always comes out in Gregorian dates, as well as MET.\n",
    "\n",
    "### Energy Range\n",
    "\n",
    "Fermi has an effective energy range of 100 MeV to 500 GeV, which is generally referred to as the 'high energy' $\\gamma$-ray band. We say it's an effective energy range, because it does detect photons down to 30 MeV, and up to approximately 1 TeV, although these higher energy photons are extremely rare for a detector the size of the LAT. \n",
    "\n",
    "As a result, we tend to use this 100 MeV to 500 GeV range, this allows us to explore the spectrum of a source to its fullest.\n",
    "\n",
    "### Search Radius\n",
    "\n",
    "Our search radius corresponds to the size of the area we want to look at.\n",
    "\n",
    "We use a larger (20+ degrees) region of interest (ROI) for:\n",
    "\n",
    "- bright sources near your ROI. This can allow flux from a source outside the ROI to work its way into your model. We'll explore this in detail when we come to likelihood fitting.\n",
    "- working on (or close to) the galactic plane. There are lots of bright sources near here, and the best fit of the interstellar emission model will come from a large ROI.\n",
    "- working with sources that peak towards lower energies. The point spread function (PSF) of the *Fermi-LAT* is **very** energy dependent. Its 68% containment region goes from several degrees at 100 MeV to 0.1 degrees at energies > 1 GeV. This can be rather frustrating to deal with, and is the principle reason we use likelihood fitting techniques.\n",
    "\n",
    "And a smaller (10 - 20 degrees) ROI if\n",
    "\n",
    "- you're working on an AGN off the plane, without anything bright nearby.\n",
    "- you're working at high energies (>1 GeV). The *Fermi* PSF allows you to cut down your ROI in this case.\n",
    "\n",
    "\n",
    "### What does our data look like?\n",
    "\n",
    "If we take a look in the data directory, there are a few files:\n"
   ]
  },
  {
   "cell_type": "code",
   "execution_count": 6,
   "metadata": {},
   "outputs": [
    {
     "name": "stdout",
     "output_type": "stream",
     "text": [
      "L240725110435F357373F08_PH00.fits L240725110435F357373F08_SC00.fits\n",
      "L240725110435F357373F08_PH01.fits\n"
     ]
    }
   ],
   "source": [
    "#If running this notebook directly in the Durham tutorial docker image\n",
    "!ls /data/"
   ]
  },
  {
   "cell_type": "markdown",
   "metadata": {},
   "source": [
    "At first sight, the names of these files are a bit incomprehensible. The file format is FITS, which stands for 'Flexible Image Transfer System', and is the standard way to store astronomical data. The files with 'PHXX' at the end (where XX = 00 for example), are our photon files, and these store the information about all the $\\gamma$-rays detected within our time range, energy range and region of interest. The one with 'SC00' at the end is our spacecraft file, and this contains information about where the LAT was pointed as a function of time. \n",
    "\n",
    "Lets open up a photon file and the spacecraft file and take a look inside:"
   ]
  },
  {
   "cell_type": "code",
   "execution_count": 8,
   "metadata": {},
   "outputs": [],
   "source": [
    "import astropy.io as asio\n",
    "\n",
    "PH_file = asio.fits.open('/data/L240725110435F357373F08_PH00.fits')\n",
    "\n",
    "SC_file = asio.fits.open('/data/L240725110435F357373F08_SC00.fits')"
   ]
  },
  {
   "cell_type": "markdown",
   "metadata": {},
   "source": [
    "If we print the header of the photon file, we can see all of our data query, plus some more information."
   ]
  },
  {
   "cell_type": "code",
   "execution_count": 9,
   "metadata": {},
   "outputs": [
    {
     "data": {
      "text/plain": [
       "SIMPLE  =                    T / file does conform to FITS standard             \n",
       "BITPIX  =                    8 / number of bits per data pixel                  \n",
       "NAXIS   =                    0 / number of data axes                            \n",
       "EXTEND  =                    T / FITS dataset may contain extensions            \n",
       "COMMENT   FITS (Flexible Image Transport System) format is defined in 'Astronomy\n",
       "COMMENT   and Astrophysics', volume 376, page 359; bibcode: 2001A&A...376..359H \n",
       "CHECKSUM= 'Lm1VMj1VLj1VLj1V'   / HDU checksum updated 2024-07-25T15:04:37       \n",
       "TELESCOP= 'GLAST   '           / name of telescope generating data              \n",
       "INSTRUME= 'LAT     '           / name of instrument generating data             \n",
       "EQUINOX =                2000. / equinox for ra and dec                         \n",
       "RADECSYS= 'FK5     '           / world coord. system for this file (FK5 or FK4) \n",
       "DATE    = '2024-07-25T11:04:36' / file creation date (YYYY-MM-DDThh:mm:ss U     \n",
       "DATE-OBS= '2010-01-01T00:00:00.0000' / start date and time of the observation (U\n",
       "DATE-END= '2010-04-01T00:10:18.0000' / end date and time of the observation (UTC\n",
       "TSTART  =           283996802. / mission time of the start of the observation   \n",
       "TSTOP   =           291773420. / mission time of the end of the observation     \n",
       "TIMEUNIT= 's       '           / units for the time related keywords            \n",
       "TIMEZERO=                   0. / clock correction                               \n",
       "TIMESYS = 'TT      '           / type of time system that is used               \n",
       "TIMEREF = 'LOCAL   '           / reference frame used for times                 \n",
       "CLOCKAPP=                    F / whether a clock drift correction has been appli\n",
       "GPS_OUT =                    F / whether GPS time was unavailable at any time du\n",
       "MJDREFI =               51910. / Integer part of MJD corresponding to SC clock s\n",
       "MJDREFF =  0.00074287037037037 / Fractional part of MJD corresponding to SC cloc\n",
       "OBSERVER= 'Peter Michelson'    / GLAST/LAT PI                                   \n",
       "FILENAME= 'L240725110435F357373F08_PH00.fits' / name of this file               \n",
       "ORIGIN  = 'FSSC    '           / name of organization making file               \n",
       "CREATOR = 'photonDatabase v7.0.3' / software and version creating file          \n",
       "VERSION = '0       '           / release version of the file                    \n",
       "PROC_VER=                  305 / processing version of this file                \n",
       "DATASUM = '         0'         / data unit checksum updated 2017-11-06T21:19:24 "
      ]
     },
     "execution_count": 9,
     "metadata": {},
     "output_type": "execute_result"
    }
   ],
   "source": [
    "PH_file[0].header"
   ]
  },
  {
   "cell_type": "markdown",
   "metadata": {},
   "source": [
    "Everything looks good, apart from our time range! Although we have requested a relatively small amount of data (not even half a year!), the fermi data file server split this into files of different, smaller, and more manageable sizes. The reason for choosing 5 months of data is also influenced by the fact that GitHub (where this tutorial and data is stored) has a file size limit. PH00 gives the photons from roughly the first three months of observations, which is correct. Another curiosity is that of our telescope name: GLAST. GLAST stands for Gamma-ray Large Area Space Telescope, which is what Fermi was called during its design and construction. There are references to this previous name throughout the software and data: the Fermi tools all begin with 'gt' which stands for GLAST tools. \n",
    "\n",
    "A FITS file will contain several \"HDUs\", each of which contain different information. Here we looked at HDU 0. Traditionally, this is the HDU that contains image data. However in gamma ray astronomy, we tend to count events - not look at images. So if we try to access this HDU:"
   ]
  },
  {
   "cell_type": "code",
   "execution_count": 10,
   "metadata": {},
   "outputs": [
    {
     "name": "stdout",
     "output_type": "stream",
     "text": [
      "None\n"
     ]
    }
   ],
   "source": [
    "print(PH_file[0].data)"
   ]
  },
  {
   "cell_type": "markdown",
   "metadata": {},
   "source": [
    "There is nothing there. Instead all of the information is kept in HDU 1."
   ]
  },
  {
   "cell_type": "code",
   "execution_count": 11,
   "metadata": {},
   "outputs": [
    {
     "name": "stdout",
     "output_type": "stream",
     "text": [
      "(1130.9272, 42.842426, 55.019382, 139.62119, -3.9184806, 50.449844, 123.57222, 96.49699, 344.4936, 284002842.5581548, 2994226, 284001367, 0, array([0, 0, 0], dtype='>i2'), array([False, False, False, False, False, False, False,  True, False,\n",
      "       False, False, False, False, False, False,  True,  True, False,\n",
      "       False, False,  True,  True,  True,  True,  True,  True,  True,\n",
      "        True,  True,  True,  True,  True]), array([False, False, False, False, False, False, False, False, False,\n",
      "       False, False, False, False, False, False, False, False, False,\n",
      "       False, False, False, False,  True, False, False, False,  True,\n",
      "       False, False, False, False,  True]), 0, 61.96582406759262, 0.0, 0.0, 0.0, 0.0, 0.0)\n"
     ]
    }
   ],
   "source": [
    "print(PH_file[1].data[0])"
   ]
  },
  {
   "cell_type": "markdown",
   "metadata": {},
   "source": [
    "This is just the first photon in the file. As you can see it contains a lot of information. We have no idea what all of this means currently, so let's look at the header of this HDU:"
   ]
  },
  {
   "cell_type": "code",
   "execution_count": 12,
   "metadata": {
    "scrolled": true
   },
   "outputs": [
    {
     "data": {
      "text/plain": [
       "XTENSION= 'BINTABLE'           / binary table extension                         \n",
       "BITPIX  =                    8 / 8-bit bytes                                    \n",
       "NAXIS   =                    2 / 2-dimensional binary table                     \n",
       "NAXIS1  =                   98 / width of table in bytes                        \n",
       "NAXIS2  =               497290 / number of rows in table                        \n",
       "PCOUNT  =                    0 / size of special data area                      \n",
       "GCOUNT  =                    1 / one data group (required keyword)              \n",
       "TFIELDS =                   23 / number of fields in each row                   \n",
       "TTYPE1  = 'ENERGY  '           / energy of event                                \n",
       "TFORM1  = 'E       '           / data format of field: 4-byte REAL              \n",
       "TTYPE2  = 'RA      '           / right ascension (J2000) of event               \n",
       "TFORM2  = 'E       '           / data format of field: 4-byte REAL              \n",
       "TTYPE3  = 'DEC     '           / declination (J2000) of event                   \n",
       "TFORM3  = 'E       '           / data format of field: 4-byte REAL              \n",
       "TTYPE4  = 'L       '           / Galactic longitude of event                    \n",
       "TFORM4  = 'E       '           / data format of field: 4-byte REAL              \n",
       "TTYPE5  = 'B       '           / Galactic latitude of event                     \n",
       "TFORM5  = 'E       '           / data format of field: 4-byte REAL              \n",
       "TTYPE6  = 'THETA   '           / inclination angle of event in instrument coordi\n",
       "TFORM6  = 'E       '           / data format of field: 4-byte REAL              \n",
       "TTYPE7  = 'PHI     '           / azimuthal angle of event in instrument coordina\n",
       "TFORM7  = 'E       '           / data format of field: 4-byte REAL              \n",
       "TTYPE8  = 'ZENITH_ANGLE'       / zenith angle of event                          \n",
       "TFORM8  = 'E       '           / data format of field: 4-byte REAL              \n",
       "TTYPE9  = 'EARTH_AZIMUTH_ANGLE' / Earth azimuth (from north to east) of event   \n",
       "TFORM9  = 'E       '           / data format of field: 4-byte REAL              \n",
       "TTYPE10 = 'TIME    '           / Mission Elapsed Time                           \n",
       "TFORM10 = 'D       '           / data format of field: 8-byte DOUBLE            \n",
       "TTYPE11 = 'EVENT_ID'           / ID number of original event                    \n",
       "TFORM11 = 'J       '           / data format of field: 4-byte signed INTEGER    \n",
       "TTYPE12 = 'RUN_ID  '           / Run number of original event                   \n",
       "TFORM12 = 'J       '           / data format of field: 4-byte signed INTEGER    \n",
       "TTYPE13 = 'RECON_VERSION'      / version of event reconstruction software       \n",
       "TFORM13 = 'I       '           / data format of field: 2-byte signed INTEGER    \n",
       "TTYPE14 = 'CALIB_VERSION'      / versions of calibration tables for the ACD, CAL\n",
       "TFORM14 = '3I      '           / data format of field: 2-byte signed INTEGER    \n",
       "TTYPE15 = 'EVENT_CLASS'        / event class: 0, 1, 2,...                       \n",
       "TFORM15 = '32X     '           / data format of field: 32 bit array             \n",
       "TTYPE16 = 'EVENT_TYPE'         / event types encoded as bit array               \n",
       "TFORM16 = '32X     '           / data format of field: 32 bit array             \n",
       "TTYPE17 = 'CONVERSION_TYPE'    / type of conversion: 0=Front converting, 1=Back \n",
       "TFORM17 = 'I       '           / data format of field: 2-byte signed INTEGER    \n",
       "TTYPE18 = 'LIVETIME'           / Accumulated livetime since mission start       \n",
       "TFORM18 = 'D       '           / data format of field: 8-byte DOUBLE            \n",
       "TTYPE19 = 'DIFRSP0 '           / Diffuse response component                     \n",
       "TFORM19 = 'E       '           / data format                                    \n",
       "TTYPE20 = 'DIFRSP1 '           / Diffuse response component                     \n",
       "TFORM20 = 'E       '           / data format                                    \n",
       "TTYPE21 = 'DIFRSP2 '           / Diffuse response component                     \n",
       "TFORM21 = 'E       '           / data format                                    \n",
       "TTYPE22 = 'DIFRSP3 '           / Diffuse response component                     \n",
       "TFORM22 = 'E       '           / data format                                    \n",
       "TTYPE23 = 'DIFRSP4 '           / Diffuse response component                     \n",
       "TFORM23 = 'E       '           / data format                                    \n",
       "CHECKSUM= '7DaLA9TJ0AZJ79ZJ'   / HDU checksum updated 2024-07-25T15:04:37       \n",
       "DATASUM = '1147066240'         / data unit checksum updated 2024-07-25T15:04:37 \n",
       "TELESCOP= 'GLAST   '           / name of telescope generating data              \n",
       "INSTRUME= 'LAT     '           / name of instrument generating data             \n",
       "EQUINOX =                2000. / equinox for ra and dec                         \n",
       "RADECSYS= 'FK5     '           / world coord. system for this file (FK5 or FK4) \n",
       "DATE    = '2024-07-25T11:04:36' / file creation date (YYYY-MM-DDThh:mm:ss U     \n",
       "DATE-OBS= '2010-01-01T00:00:00.0000' / start date and time of the observation (U\n",
       "DATE-END= '2010-04-01T00:10:18.0000' / end date and time of the observation (UTC\n",
       "OBSERVER= 'Peter Michelson'    / GLAST/LAT PI                                   \n",
       "ORIGIN  = 'FSSC    '           / name of organization making file               \n",
       "EXTNAME = 'EVENTS  '           / name of this binary table extension            \n",
       "HDUCLASS= 'OGIP    '           / format conforms to OGIP standard               \n",
       "HDUCLAS1= 'EVENTS  '           / extension contains events                      \n",
       "HDUCLAS2= 'ALL     '           / extension contains all events detected         \n",
       "TSTART  =           283996802. / mission time of the start of the observation   \n",
       "TSTOP   =           291773420. / mission time of the end of the observation     \n",
       "MJDREFI =               51910. / Integer part of MJD corresponding to SC clock s\n",
       "MJDREFF =  0.00074287037037037 / Fractional part of MJD corresponding to SC cloc\n",
       "TIMEUNIT= 's       '           / units for the time related keywords            \n",
       "TIMEZERO=                   0. / clock correction                               \n",
       "TIMESYS = 'TT      '           / type of time system that is used               \n",
       "TIMEREF = 'LOCAL   '           / reference frame used for times                 \n",
       "CLOCKAPP=                    F / whether a clock drift correction has been appli\n",
       "GPS_OUT =                    F / whether GPS time was unavailable at any time du\n",
       "PASS_VER= 'P8R3    '           / IRF pass version corresponding to a specific se\n",
       "NDIFRSP =                    5 / Number of diffuse response labels              \n",
       "DIFRSP0 = 'NONE    '           / Diffuse response label for component 0         \n",
       "DIFRSP1 = 'NONE    '           / Diffuse response label for component 1         \n",
       "DIFRSP2 = 'NONE    '           / Diffuse response label for component 2         \n",
       "DIFRSP3 = 'NONE    '           / Diffuse response label for component 3         \n",
       "DIFRSP4 = 'NONE    '           / Diffuse response label for component 4         \n",
       "TUNIT1  = 'MeV     '           / physical unit of field                         \n",
       "TLMIN1  =                   0. / minimum value                                  \n",
       "TLMAX1  =            10000000. / maximum value                                  \n",
       "TUNIT2  = 'deg     '           / physical unit of field                         \n",
       "TLMIN2  =                   0. / minimum value                                  \n",
       "TLMAX2  =                 360. / maximum value                                  \n",
       "TUNIT3  = 'deg     '           / physical unit of field                         \n",
       "TLMIN3  =                 -90. / minimum value                                  \n",
       "TLMAX3  =                  90. / maximum value                                  \n",
       "TUNIT4  = 'deg     '           / physical unit of field                         \n",
       "TLMIN4  =                   0. / minimum value                                  \n",
       "TLMAX4  =                 360. / maximum value                                  \n",
       "TUNIT5  = 'deg     '           / physical unit of field                         \n",
       "TLMIN5  =                 -90. / minimum value                                  \n",
       "TLMAX5  =                  90. / maximum value                                  \n",
       "TUNIT6  = 'deg     '           / physical unit of field                         \n",
       "TLMIN6  =                   0. / minimum value                                  \n",
       "TLMAX6  =                 180. / maximum value                                  \n",
       "TUNIT7  = 'deg     '           / physical unit of field                         \n",
       "TLMIN7  =                   0. / minimum value                                  \n",
       "TLMAX7  =                 360. / maximum value                                  \n",
       "TUNIT8  = 'deg     '           / physical unit of field                         \n",
       "TLMIN8  =                   0. / minimum value                                  \n",
       "TLMAX8  =                 180. / maximum value                                  \n",
       "TUNIT9  = 'deg     '           / physical unit of field                         \n",
       "TLMIN9  =                   0. / minimum value                                  \n",
       "TLMAX9  =                 360. / maximum value                                  \n",
       "TUNIT10 = 's       '           / physical unit of field                         \n",
       "TLMIN10 =                   0. / minimum value                                  \n",
       "TLMAX10 =         10000000000. / maximum value                                  \n",
       "TLMIN11 =                    0 / minimum value                                  \n",
       "TLMAX11 =           2147483647 / maximum value                                  \n",
       "TLMIN12 =                    0 / minimum value                                  \n",
       "TLMAX12 =           2147483647 / maximum value                                  \n",
       "TLMIN13 =                    0 / minimum value                                  \n",
       "TLMAX13 =                32767 / maximum value                                  \n",
       "TLMIN15 =                    0 / minimum value                                  \n",
       "TLMAX15 =                32767 / maximum value                                  \n",
       "TLMIN16 =                    0 / minimum value                                  \n",
       "TLMAX16 =                32767 / maximum value                                  \n",
       "TLMIN17 =                    0 / minimum value                                  \n",
       "TLMAX17 =                32767 / maximum value                                  \n",
       "TUNIT18 = 's       '           / physical unit of field                         \n",
       "TLMIN18 =                   0. / minimum value                                  \n",
       "TLMAX18 =         10000000000. / maximum value                                  \n",
       "TLMIN19 =                   0. / minimum value                                  \n",
       "TLMAX19 =              1.0E+38 / maximum value                                  \n",
       "TLMIN20 =                   0. / minimum value                                  \n",
       "TLMAX20 =              1.0E+38 / maximum value                                  \n",
       "TLMIN21 =                   0. / minimum value                                  \n",
       "TLMAX21 =              1.0E+38 / maximum value                                  \n",
       "TLMIN22 =                   0. / minimum value                                  \n",
       "TLMAX22 =              1.0E+38 / maximum value                                  \n",
       "TLMIN23 =                   0. / minimum value                                  \n",
       "TLMAX23 =              1.0E+38 / maximum value                                  \n",
       "EXTVER  =                    1 / auto assigned by template parser               \n",
       "HISTORY Input merit file: /lustre/ki/pfs/fermi_scratch/glastmp/P305-FITS.mergeRu\n",
       "HISTORY n/7372.0/IN/r0282096969_v301_merit.root                                 \n",
       "HISTORY Filter string: (((FswGamState==0)&&((GltGemSummary&0x60)==0)&&(TkrNumTra\n",
       "HISTORY cks > 0))&&((-log10(1.0-WP8CTAllProb)) >= (0.010000)*(EvtJointLogEnergy \n",
       "HISTORY < 1.250000) + ((EvtJointLogEnergy <= 1.750000)*((0.010000)*(1.0)+(0.0000\n",
       "HISTORY 00)*(pow((EvtJointLogEnergy-1.250000)/0.500000,1))+(0.018669)*(pow((EvtJ\n",
       "HISTORY ointLogEnergy-1.250000)/0.500000,2)))+((EvtJointLogEnergy > 1.750000)*(E\n",
       "HISTORY vtJointLogEnergy <= 2.250000))*((0.028669)*(1.0)+(0.037338)*(pow((EvtJoi\n",
       "HISTORY ntLogEnergy-1.750000)/0.500000,1))+(-0.017111)*(pow((EvtJointLogEnergy-1\n",
       "HISTORY .750000)/0.500000,2)))+((EvtJointLogEnergy > 2.250000)*(EvtJointLogEnerg\n",
       "HISTORY y <= 2.750000))*((0.048897)*(1.0)+(0.003117)*(pow((EvtJointLogEnergy-2.2\n",
       "HISTORY 50000)/0.500000,1))+(0.001967)*(pow((EvtJointLogEnergy-2.250000)/0.50000\n",
       "HISTORY 0,2)))+((EvtJointLogEnergy > 2.750000)*(EvtJointLogEnergy <= 3.250000))*\n",
       "HISTORY ((0.053980)*(1.0)+(0.007050)*(pow((EvtJointLogEnergy-2.750000)/0.500000,\n",
       "HISTORY 1))+(-0.003525)*(pow((EvtJointLogEnergy-2.750000)/0.500000,2)))+((EvtJoi\n",
       "HISTORY ntLogEnergy > 3.250000)*(EvtJointLogEnergy <= 3.750000))*((0.057505)*(1.\n",
       "HISTORY 0)+(0.000000)*(pow((EvtJointLogEnergy-3.250000)/0.500000,1))+(0.121963)*\n",
       "HISTORY (pow((EvtJointLogEnergy-3.250000)/0.500000,2)))+((EvtJointLogEnergy > 3.\n",
       "HISTORY 750000)*(EvtJointLogEnergy <= 4.250000))*((0.179468)*(1.0)+(0.243925)*(p\n",
       "HISTORY ow((EvtJointLogEnergy-3.750000)/0.500000,1))+(0.493075)*(pow((EvtJointLo\n",
       "HISTORY gEnergy-3.750000)/0.500000,2)))+((EvtJointLogEnergy > 4.250000)*(EvtJoin\n",
       "HISTORY tLogEnergy <= 4.750000))*((0.916468)*(1.0)+(1.230076)*(pow((EvtJointLogE\n",
       "HISTORY nergy-4.250000)/0.500000,1))+(-0.501532)*(pow((EvtJointLogEnergy-4.25000\n",
       "HISTORY 0)/0.500000,2)))+(EvtJointLogEnergy > 4.750000)*((1.645012)*(1.0)+(0.227\n",
       "HISTORY 011)*(pow((EvtJointLogEnergy-4.750000)/0.500000,1))+(0.029483)*(pow((Evt\n",
       "HISTORY JointLogEnergy-4.750000)/0.500000,2))))*(EvtJointLogEnergy >= 1.250000 &\n",
       "HISTORY & EvtJointLogEnergy <= 5.750000) + (2.216967)*(EvtJointLogEnergy > 5.750\n",
       "HISTORY 000))) || (((-log10(1.0-WP8CTCalTkrProb)) >=  -0.035931+ (   0.27029)*po\n",
       "HISTORY w(EvtJointLogEnergy,1)+(  -0.23349)*pow(EvtJointLogEnergy,2)+ (   0.0786\n",
       "HISTORY 7)*pow(EvtJointLogEnergy,3)+ (-0.005295)*pow(EvtJointLogEnergy,4))&&((Fs\n",
       "HISTORY wGamState==0)&&((GltGemSummary&0x60)==0)&&(TkrNumTracks > 0)&&EvtCalCsIR\n",
       "HISTORY Ln>4 && ((log10(max(CalTrackAngle,1E-4))) <= (0.529795)*(EvtJointLogEner\n",
       "HISTORY gy < 3.000000)+ ((1.0)*((0.529795)*(1.0)+(-1.379791)*(pow((EvtJointLogEn\n",
       "HISTORY ergy-3.000000)/0.916667,1))+(0.583401)*(pow((EvtJointLogEnergy-3.000000)\n",
       "HISTORY /0.916667,2))+(-0.075555)*(pow((EvtJointLogEnergy-3.000000)/0.916667,3))\n",
       "HISTORY ))*(EvtJointLogEnergy>= 3.000000 && EvtJointLogEnergy <= 5.750000) + (-0\n",
       "HISTORY .398962)*(EvtJointLogEnergy > 5.750000)))&&(WP8CTPSFTail > 0.05 && WP8CT\n",
       "HISTORY BestEnergyProb > 0.1)) && (EvtElapsedTime >= 282096971)  && (EvtElapsedT\n",
       "HISTORY ime <= 282101987)                                                       \n",
       "HISTORY CFITSIO used the following filtering expression to create this table:   \n",
       "HISTORY /lustre/ki/pfs/fermi_scratch/glastmp/P305-FITS.mergeRun/7372.0/foo.fit[E\n",
       "HISTORY VENTS][gtifilter(\"/lustre/ki/pfs/fermi_scratch/glastmp/P305-FITS.mergeRu\n",
       "HISTORY n/7372.0/OUT/gll_xp_p305_r0282096969_v305.fit_tempgti\")]                \n",
       "HISTORY CFITSIO used the following filtering expression to create this table:   \n",
       "HISTORY /lustre/ki/pfs/fermi_scratch/glastmp/P305-FITS.mergeRun/7372.0/OUT/gll_x\n",
       "HISTORY p_p305_r0282096969_v305.fit[EVENTS][((EVENT_CLASS&o200) != o0) && gtifil\n",
       "HISTORY ter()]                                                                  \n",
       "DSTYP1  = 'TIME    '                                                            \n",
       "DSUNI1  = 's       '                                                            \n",
       "DSVAL1  = 'TABLE   '                                                            \n",
       "DSREF1  = ':GTI    '                                                            \n",
       "DSTYP2  = 'BIT_MASK(EVENT_CLASS,128,P8R3)'                                      \n",
       "DSUNI2  = 'DIMENSIONLESS'                                                       \n",
       "DSVAL2  = '1:1     '                                                            \n",
       "NDSKEYS =                    5 / Number of data subspace keywords in header     \n",
       "HISTORY Filter string: ((EVENT_CLASS&o200) != o0) && gtifilter()                \n",
       "HISTORY CFITSIO used the following filtering expression to create this table:   \n",
       "HISTORY /lustre/ki/pfs/fermi_scratch/glastmp/P305-FITS.mergeRun/7372.0/OUT/foo.f\n",
       "HISTORY its[EVENTS][gtifilter(\"/lustre/ki/pfs/fermi_scratch/glastmp/P305-FITS.me\n",
       "HISTORY rgeRun/7372.0/OUT/gll_ph_p305_r0282096969_v305.fit_tempgti\")]           \n",
       "DSTYP3  = 'POS(RA,DEC)'                                                         \n",
       "DSUNI3  = 'deg     '                                                            \n",
       "DSVAL3  = 'circle(49.95066663,41.51169690,15.00000000)'                         \n",
       "DSTYP4  = 'TIME    '                                                            \n",
       "DSUNI4  = 's       '                                                            \n",
       "DSVAL4  = '283996802.000000:297043202.000000'                                   \n",
       "DSTYP5  = 'ENERGY  '                                                            \n",
       "DSUNI5  = 'MeV     '                                                            \n",
       "DSVAL5  = '100.000000:500000.000000'                                            "
      ]
     },
     "execution_count": 12,
     "metadata": {},
     "output_type": "execute_result"
    }
   ],
   "source": [
    "PH_file[1].header"
   ]
  },
  {
   "cell_type": "markdown",
   "metadata": {},
   "source": [
    "So we have a load of information. If you look at the columns labelled \"TTYPE[x]\", these tell you what information is kept for each of the photons. So if we want to look at the energy, RA, and Dec of the first photon, we would do the following:"
   ]
  },
  {
   "cell_type": "code",
   "execution_count": 17,
   "metadata": {},
   "outputs": [
    {
     "name": "stdout",
     "output_type": "stream",
     "text": [
      "Energy: 1130.92724609375 [MeV]   RA,DEC: 42.84242630004883, 55.01938247680664 [degrees]\n"
     ]
    }
   ],
   "source": [
    "Energy = PH_file[1].data[0]['Energy']\n",
    "RA = PH_file[1].data[0]['RA']\n",
    "DEC = PH_file[1].data[0]['DEC']\n",
    "print(f\"Energy: {Energy} [MeV]   RA,DEC: {RA}, {DEC} [degrees]\")"
   ]
  },
  {
   "cell_type": "markdown",
   "metadata": {},
   "source": [
    "Or alternatively:"
   ]
  },
  {
   "cell_type": "code",
   "execution_count": 18,
   "metadata": {},
   "outputs": [
    {
     "data": {
      "text/plain": [
       "1130.9272"
      ]
     },
     "execution_count": 18,
     "metadata": {},
     "output_type": "execute_result"
    }
   ],
   "source": [
    "PH_file[1].data[0][0]"
   ]
  },
  {
   "cell_type": "markdown",
   "metadata": {},
   "source": [
    "We can now take a quick look at the header of the spacecraft file too:"
   ]
  },
  {
   "cell_type": "code",
   "execution_count": 19,
   "metadata": {},
   "outputs": [
    {
     "data": {
      "text/plain": [
       "SIMPLE  =                    T / file does conform to FITS standard             \n",
       "BITPIX  =                    8 / number of bits per data pixel                  \n",
       "NAXIS   =                    0 / number of data axes                            \n",
       "EXTEND  =                    T / FITS dataset may contain extensions            \n",
       "COMMENT   FITS (Flexible Image Transport System) format is defined in 'Astronomy\n",
       "COMMENT   and Astrophysics', volume 376, page 359; bibcode: 2001A&A...376..359H \n",
       "CHECKSUM= 'aFDmaFBjaFBjaFBj'   / HDU checksum updated 2024-07-25T15:04:37       \n",
       "DATASUM = '0       '           / checksum for image data                        \n",
       "TELESCOP= 'GLAST   '           / name of telescope generating data              \n",
       "INSTRUME= 'LAT     '           / name of instrument generating data             \n",
       "EQUINOX =                2000. / equinox for ra and dec                         \n",
       "RADECSYS= 'FK5     '           / world coord. system for this file (FK5 or FK4) \n",
       "DATE    = '2024-07-25T11:04:36' / file creation date (YYYY-MM-DDThh:mm:ss U     \n",
       "DATE-OBS= '2010-01-01T00:00:00.0000' / START date and time of the observation (U\n",
       "DATE-END= '2010-06-01T00:00:00.0000' / end date and time of the observation (UTC\n",
       "TSTART  =           283996802. / mission time of the START of the observation   \n",
       "TSTOP   =           297043202. / mission time of the end of the observation     \n",
       "TIMESYS = 'TT      '           / type of time system that is used               \n",
       "TIMEUNIT= 's       '           / units for TSTART and TSTOP keywords            \n",
       "GPS_OUT =                    F / whether GPS time was unavailable at any time du\n",
       "MJDREFI =               51910. / Integer part of MJD corresponding to SC clock S\n",
       "MJDREFF =  0.00074287037037037 / Fractional part of MJD corresponding to SC cloc\n",
       "OBSERVER= 'Peter Michelson'    / GLAST/LAT PI                                   \n",
       "FILENAME= 'L240725110435F357373F08_SC00.fits' / name of this file               \n",
       "ORIGIN  = 'FSSC    '           / name of organization making file               \n",
       "CREATOR = 'spacecraftDatabase v7.0.3' / software and version creating file      \n",
       "VERSION = '0       '           / release version of the file                    \n",
       "PROC_VER=                  310 / processing version of this file                "
      ]
     },
     "execution_count": 19,
     "metadata": {},
     "output_type": "execute_result"
    }
   ],
   "source": [
    "SC_file[0].header"
   ]
  },
  {
   "cell_type": "markdown",
   "metadata": {},
   "source": [
    "And we get a long list of information regarding the spacecraft, fun! It is important to have a basic understanding of the data which we are operating on, as when things go wrong, or something unexpected arises, this understanding helps us troubleshoot. \n",
    "\n",
    "Feel free to play about with these files as much as you want. For example look at what information is contained in the PH file, or explore the SC file in further depth. However, we'll leave that to your own curiosity. In the next tutorial, we'll move onto discussion of the Fermi Tools."
   ]
  },
  {
   "cell_type": "code",
   "execution_count": null,
   "metadata": {},
   "outputs": [],
   "source": []
  }
 ],
 "metadata": {
  "kernelspec": {
   "display_name": "Python 3",
   "language": "python",
   "name": "python3"
  },
  "language_info": {
   "codemirror_mode": {
    "name": "ipython",
    "version": 3
   },
   "file_extension": ".py",
   "mimetype": "text/x-python",
   "name": "python",
   "nbconvert_exporter": "python",
   "pygments_lexer": "ipython3",
   "version": "3.9.16"
  }
 },
 "nbformat": 4,
 "nbformat_minor": 2
}
