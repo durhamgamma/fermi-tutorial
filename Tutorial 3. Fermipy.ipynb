{
 "cells": [
  {
   "cell_type": "markdown",
   "metadata": {},
   "source": [
    "# 3: Fermipy\n",
    "\n",
    "There is a tool named Fermipy which was developed (mainly) by Matt Wood at NASA Goddard with the help of several others. It's very good at simplifying the whole Fermi analysis chain - as I will demonstrate shortly. \n",
    "\n",
    "## Intro\n",
    "\n",
    "Fermipy takes a configuration file in the YAML format, and then uses this to run the whole analysis chain along with optimized fitting routines and several other bells and whistles to make your analysis **significantly** easier. Firstly let's have a look at the default config, which has all of the different possible parameters in it for your perusal."
   ]
  },
  {
   "cell_type": "code",
   "execution_count": 1,
   "metadata": {},
   "outputs": [
    {
     "name": "stdout",
     "output_type": "stream",
     "text": [
      "# NGC 1275 Configuration File\r\n",
      "\r\n",
      "data:\r\n",
      "  evfile : events.txt #our list of photon files\r\n",
      "  scfile : data/L1910170847288E15477E17_SC00.fits #our spacecraft file\r\n",
      "\r\n",
      "binning:\r\n",
      "  roiwidth   : 15.0 # Let's keep a small roi\r\n",
      "  binsz      : 0.1 # bin size in degrees\r\n",
      "  binsperdec : 8 # Ebins per decade in energy - 10 is a good estimate\r\n",
      "\r\n",
      "selection:\r\n",
      "  emin : 100  #our minimum energy\r\n",
      "  emax : 300000  #our maximum energy\r\n",
      "  zmax : 90  #our zenith angle\r\n",
      "  evclass : 128  #our event class\r\n",
      "  evtype : 3  #our event type\r\n",
      "  tmin : 283996802  #our minimum time\r\n",
      "  tmax : 315532802  #our maximum time\r\n",
      "  filter : DATA_QUAL>0 && LAT_CONFIG==1 #A standard filter for gtmktime\r\n",
      "  target : 'NGC 1275' # As NGC 1275 is in our 4FGL catalogue, we can simply type its name in, instead of the ra and dec of the source.\r\n",
      "\r\n",
      "gtlike:\r\n",
      "  edisp : True # Enable energy dispersion\r\n",
      "  irfs : 'P8R3_SOURCE_V3'\r\n",
      "  edisp_disable  : ['isodiff', 'galdiff'] # Never enable energy dispersion for the isodiff or galdiff models\r\n",
      "\r\n",
      "model:\r\n",
      "  src_roiwidth : 20.0 #Includes sources outside of the ROI\r\n",
      "  galdiff  : 'gll_iem_v07.fits' # The most recent and up to date model of the galactic diffuse emission\r\n",
      "  isodiff  : 'iso_P8R3_SOURCE_V3_v1.txt' # The most recent and up to date model for the isotropic diffuse emission, and for our event class\r\n",
      "  catalogs : ['4FGL'] # The 4FGL catalogue, 8 year Fermi-LAT point source catalogue.\r\n"
     ]
    }
   ],
   "source": [
    "!cat config.yaml"
   ]
  },
  {
   "cell_type": "markdown",
   "metadata": {},
   "source": [
    "Now let's load this up in Fermipy and see what we can do:"
   ]
  },
  {
   "cell_type": "code",
   "execution_count": 2,
   "metadata": {},
   "outputs": [
    {
     "name": "stdout",
     "output_type": "stream",
     "text": [
      "/workdir\n"
     ]
    }
   ],
   "source": [
    "currentDir = %pwd\n",
    "print(currentDir)"
   ]
  },
  {
   "cell_type": "code",
   "execution_count": 3,
   "metadata": {},
   "outputs": [],
   "source": [
    "import os"
   ]
  },
  {
   "cell_type": "code",
   "execution_count": 4,
   "metadata": {},
   "outputs": [
    {
     "name": "stdout",
     "output_type": "stream",
     "text": [
      ".:/root/pfiles;/miniconda3/envs/fermipy-v1-0-1/share/fermitools/syspfiles\n"
     ]
    }
   ],
   "source": [
    "print((\"{0}\").format(os.environ['PFILES']))"
   ]
  },
  {
   "cell_type": "code",
   "execution_count": 5,
   "metadata": {},
   "outputs": [],
   "source": [
    "os.environ['PFILES'] = currentDir + \"/NGC_1275_Fit\""
   ]
  },
  {
   "cell_type": "code",
   "execution_count": 6,
   "metadata": {},
   "outputs": [
    {
     "name": "stdout",
     "output_type": "stream",
     "text": [
      "/workdir/NGC_1275_Fit\n"
     ]
    }
   ],
   "source": [
    "print((\"{0}\").format(os.environ['PFILES']))"
   ]
  },
  {
   "cell_type": "code",
   "execution_count": 7,
   "metadata": {},
   "outputs": [],
   "source": [
    "if(not os.path.exists(\"/workdir/NGC_1275_Fit\")):\n",
    "    os.mkdir(\"/workdir/NGC_1275_Fit\")\n",
    "    os.listdir(\"/workdir/NGC_1275_Fit\")\n",
    "else:\n",
    "    os.listdir(\"/workdir/NGC_1275_Fit\")"
   ]
  },
  {
   "cell_type": "code",
   "execution_count": 8,
   "metadata": {},
   "outputs": [
    {
     "name": "stdout",
     "output_type": "stream",
     "text": [
      "total 117M\r\n",
      "-rw-r--r--  1 root root  214 Dec  2 14:01  Data_Query.dat\r\n",
      "-rw-r--r--  1 root root  746 Dec  2 14:01  README.md\r\n",
      "-rw-r--r--  1 root root 1.4K Dec  2 14:01  config.yaml\r\n",
      "drwxr-xr-x 15 root root  480 Dec  2 14:01  \u001b[0m\u001b[01;34mimg\u001b[0m/\r\n",
      "-rw-r--r--  1 root root  49K Dec  2 14:01  make4FGLxml.py\r\n",
      "-rw-r--r--  1 root root  36K Dec  2 14:01  make4FGLxml.pyc\r\n",
      "-rw-r--r--  1 root root 5.3M Dec  2 14:02  gll_psc_v27.fit\r\n",
      "-rw-r--r--  1 root root  16M Dec  2 14:02  ltcube.fits\r\n",
      "drwxr-xr-x  4 root root  128 Dec  2 14:02  \u001b[01;34mngc1275-analysis\u001b[0m/\r\n",
      "drwxr-xr-x  7 root root  224 Dec  2 14:03  \u001b[01;34mdata\u001b[0m/\r\n",
      "-rw-r--r--  1 root root  39K Dec  2 14:05 'Tutorial 1. The Fermi Data.ipynb'\r\n",
      "drwxr-xr-x  3 root root   96 Dec  2 14:16  \u001b[01;34m__pycache__\u001b[0m/\r\n",
      "-rw-r--r--  1 root root 241K Dec  2 15:50 'Tutorial 3. Fermipy.ipynb'\r\n",
      "-rw-r--r--  1 root root  117 Dec  2 15:56  events.txt\r\n",
      "-rw-r--r--  1 root root 1.3K Dec  2 16:00  gtselect.par\r\n",
      "-rw-r--r--  1 root root  38M Dec  2 16:01  NGC_1275_filtered.fits\r\n",
      "drwxr-xr-x  2 root root   64 Dec  2 16:05  \u001b[01;34mNGC_1275_Fit\u001b[0m/\r\n",
      "-rw-r--r--  1 root root 1.2K Dec  2 16:06  gtmktime.par\r\n",
      "-rw-r--r--  1 root root  37M Dec  2 16:06  NGC_1275_gti.fits\r\n",
      "-rw-r--r--  1 root root 4.1K Dec  2 16:08  gtbin.par\r\n",
      "-rw-r--r--  1 root root 5.3M Dec  2 16:08  NGC_1275_ccube.fits\r\n",
      "-rw-r--r--  1 root root 170K Dec  2 16:08  NGC_1275_model.xml\r\n",
      "-rw-r--r--  1 root root  19K Dec  2 16:08  ROI_NGC_1275_model.reg\r\n",
      "-rw-r--r--  1 root root 1.1K Dec  2 16:09  gtltcube.par\r\n",
      "-rw-r--r--  1 root root  19K Dec  2 16:10 'Tutorial 2. The Fermi Tools.ipynb'\r\n",
      "-rw-r--r--  1 root root 2.2K Dec  2 16:11  gtexpcube2.par\r\n",
      "-rw-r--r--  1 root root 5.5M Dec  2 16:11  NGC_1275_bexpmap.fits\r\n",
      "-rw-r--r--  1 root root 1.5K Dec  2 16:12  gtsrcmaps.par\r\n",
      "-rw-r--r--  1 root root 5.3M Dec  2 16:12  NGC_1275_srcmaps.fits\r\n"
     ]
    }
   ],
   "source": [
    "ls -lhtr"
   ]
  },
  {
   "cell_type": "code",
   "execution_count": 14,
   "metadata": {},
   "outputs": [
    {
     "name": "stderr",
     "output_type": "stream",
     "text": [
      "2021-12-02 16:17:41 INFO    GTAnalysis.__init__(): \n",
      "--------------------------------------------------------------------------------\n",
      "fermipy version v1.0.1 \n",
      "ScienceTools version 2.0.8\n"
     ]
    },
    {
     "name": "stdout",
     "output_type": "stream",
     "text": [
      "here\n",
      "here\n"
     ]
    }
   ],
   "source": [
    "from fermipy.gtanalysis import GTAnalysis\n",
    "\n",
    "# Create an analysis object from the config file\n",
    "\n",
    "gta = GTAnalysis('config.yaml', logging={'verbosity': 3})\n",
    "#gta = GTAnalysis('config.yaml', logging={'verbosity': 3}, fileio={'outdir': '/workdir/local-test-three/Tutorial/NGC_1275_Fit'}) # One can also pass in additional command line options here.\n",
    "#gta = GTAnalysis('config.yaml', logging={'verbosity': 3}, fileio={'workdir' : './', 'outdir': './NGC_1275_Fit'}) # One can also pass in additional command line options here."
   ]
  },
  {
   "cell_type": "markdown",
   "metadata": {},
   "source": [
    "We can normally ignore any 'warning' messages, they generally benign. Now we'll run our setup"
   ]
  },
  {
   "cell_type": "code",
   "execution_count": 16,
   "metadata": {},
   "outputs": [
    {
     "name": "stderr",
     "output_type": "stream",
     "text": [
      "2021-12-02 19:15:23 INFO    GTAnalysis.setup(): Running setup.\n",
      "2021-12-02 19:15:23 INFO    GTBinnedAnalysis.setup(): Running setup for component 00\n",
      "2021-12-02 19:15:23 INFO    GTBinnedAnalysis._select_data(): Skipping data selection.\n",
      "2021-12-02 19:15:23 INFO    GTBinnedAnalysis._create_ltcube(): Skipping LT Cube.\n",
      "2021-12-02 19:15:24 INFO    GTBinnedAnalysis._create_expcube(): Skipping gtexpcube.\n",
      "2021-12-02 19:15:24 INFO    GTBinnedAnalysis._create_srcmaps(): Skipping gtsrcmaps.\n",
      "2021-12-02 19:15:24 INFO    GTBinnedAnalysis.setup(): Finished setup for component 00\n",
      "2021-12-02 19:15:24 INFO    GTBinnedAnalysis._create_binned_analysis(): Creating BinnedAnalysis for component 00.\n"
     ]
    },
    {
     "name": "stdout",
     "output_type": "stream",
     "text": [
      "Drm_Cache::update Measured counts < 0 4FGL J0336.4+3224 27 -1.35016e-17 2.85601e-15\n",
      "27.8729 27.2381 22.1056 15.3918 9.22693 4.84418 2.25593 0.918329 0.353204 0.117082 0.0377381 0.0104151 0.0027514 0.000620017 0.000135162 2.58415e-05 5.11728e-06 9.10575e-07 1.77043e-07 3.29517e-08 5.88771e-09 9.54813e-10 1.40608e-10 1.87285e-11 2.30507e-12 2.5714e-13 2.81136e-14 2.85601e-15 \n"
     ]
    },
    {
     "name": "stderr",
     "output_type": "stream",
     "text": [
      "2021-12-02 19:15:43 INFO    GTAnalysis.setup(): Initializing source properties\n",
      "2021-12-02 19:15:51 INFO    GTAnalysis.setup(): Finished setup.\n"
     ]
    }
   ],
   "source": [
    "gta.setup()"
   ]
  },
  {
   "cell_type": "markdown",
   "metadata": {},
   "source": [
    "We can immediately see how powerful Fermipy is, based on the output (in the red textbox) of this one command. Based on our defined parameters in the config file. The setup has ran gtselect, and filtered our photon files in the same way that the command line tool would have, by ROI, time, event class and event type. It has then created a livetime cube, using gtltcube (actually, it skipped this step, because I created it for you, to save you some time). It then runs gtbin to bin our photons, gtexpcube2 to compute exposure, and gtsrcmaps, to generate a source map of our ROI. \n",
    "\n",
    "This is all exceptionally useful, as this allows us to essentially run all of the science tools from Tutorial 2, in one command, based on our input from the config file. It saves us time and effort, and reduces the odds of human error! Nice!\n",
    "\n",
    "Now we've got our model set up, we should try and fit it to our data. The first method we can use is to optimise the fit. \n",
    "\n",
    "There are several methods of statistically fitting models, $ \\chi ^2$ minimisation and linear regression being two you have probably encountered the most. As our data is multidimensional (in space, time and energy), we use a more suitable approach, as described in Mattox et al (1996) https://ui.adsabs.harvard.edu/abs/1996ApJ...461..396M/abstract, called Maximum Likelihood Estimation. \n",
    "\n",
    "Each source in our model has different parameters, with associated statistical likelihoods. By varying the parameters to maximise the likelihoods, we improve the fit of our model. This method is particularly suitable for our data and modelling. You don't need to know in great depth about MLE to do Fermi analysis, however it really gives you a greater appreciation of what you're doing matghematically. I'll leave it to you to research this yourseld.\n",
    "\n",
    "The first thing we should do with our model is optimise it. Optimisation is a Fermipy routine which iteratively pushes the parameters of each source close to their global maxima, and thus gives us a reasonable fit for our model to the data.\n",
    "\n",
    "Lets do it!\n"
   ]
  },
  {
   "cell_type": "code",
   "execution_count": 17,
   "metadata": {},
   "outputs": [
    {
     "name": "stderr",
     "output_type": "stream",
     "text": [
      "2021-12-02 19:16:19 INFO    GTAnalysis.optimize(): Starting\n"
     ]
    },
    {
     "name": "stdout",
     "output_type": "stream",
     "text": [
      "Joint fit  ['galdiff', 'isodiff', '4FGL J0319.8+4130']\n"
     ]
    },
    {
     "name": "stderr",
     "output_type": "stream",
     "text": [
      "/miniconda3/envs/fermipy-v1-0-1/lib/python3.7/site-packages/scipy/interpolate/fitpack2.py:280: UserWarning: \n",
      "The maximal number of iterations maxit (set to 20 by the program)\n",
      "allowed for finding a smoothing spline with fp=s has been reached: s\n",
      "too small.\n",
      "There is an approximation returned but the corresponding weighted sum\n",
      "of squared residuals does not satisfy the condition abs(fp-s)/s < tol.\n",
      "  warnings.warn(message)\n"
     ]
    },
    {
     "name": "stdout",
     "output_type": "stream",
     "text": [
      "Fitting shape galdiff TS:  29686.975\n",
      "Fitting shape 4FGL J0319.8+4130 TS:   8122.537\n",
      "Fitting shape isodiff TS:   1142.428\n",
      "Fitting shape 4FGL J0303.6+4716 TS:    624.739\n",
      "Fitting shape 4FGL J0340.3+4130 TS:    270.936\n",
      "Fitting shape 4FGL J0324.8+3412 TS:     46.593\n",
      "Fitting shape 4FGL J0330.6+4659 TS:     29.501\n"
     ]
    },
    {
     "name": "stderr",
     "output_type": "stream",
     "text": [
      "2021-12-02 19:16:54 INFO    GTAnalysis.optimize(): Finished\n",
      "2021-12-02 19:16:54 INFO    GTAnalysis.optimize(): LogLike: -184299.172933 Delta-LogLike: 386.050363\n",
      "2021-12-02 19:16:54 INFO    GTAnalysis.optimize(): Execution time: 35.17 s\n"
     ]
    },
    {
     "data": {
      "text/plain": [
       "{'loglike0': -184685.22329567335,\n",
       " 'loglike1': -184299.17293267645,\n",
       " 'dloglike': 386.05036299690255,\n",
       " 'config': {'npred_threshold': 1.0,\n",
       "  'npred_frac': 0.95,\n",
       "  'shape_ts_threshold': 25.0,\n",
       "  'max_free_sources': 5,\n",
       "  'skip': [],\n",
       "  'optimizer': {'optimizer': 'MINUIT',\n",
       "   'tol': 0.001,\n",
       "   'max_iter': 100,\n",
       "   'init_lambda': 0.0001,\n",
       "   'retries': 3,\n",
       "   'min_fit_quality': 2,\n",
       "   'verbosity': 0}}}"
      ]
     },
     "execution_count": 17,
     "metadata": {},
     "output_type": "execute_result"
    }
   ],
   "source": [
    "gta.optimize()"
   ]
  },
  {
   "cell_type": "markdown",
   "metadata": {},
   "source": [
    "There we go! Our optimization is finished and we should now have a model which represents the data in a much better way than before. But can we do better?\n",
    "\n",
    "As mentioned, each source has a set of parameters, normalisation of the spectral power law, spectral shape etc. By freeing these parameters, we can execute a fit with respect to these. A fit provides a much better, well, fit, of the model to the data with respect to the freed parameters, however is very time consuming for our machines to do. In the case of NGC 1275 (which we are looking at) we probably want to fit the normalisation, and the normalisation of the sources around it. Parameters like spectral shape can be left alone, because we are pretty convinced that it is a point source, and there is no evidence for $\\gamma$-ray extension.\n",
    "\n",
    "First, we free the normalisation for a 3 degree region centered on NGC 1275, and also our background components in the model. "
   ]
  },
  {
   "cell_type": "code",
   "execution_count": 18,
   "metadata": {},
   "outputs": [
    {
     "name": "stderr",
     "output_type": "stream",
     "text": [
      "2021-12-03 07:45:58 INFO    GTAnalysis.free_source(): Freeing parameters for 4FGL J0319.8+4130     : ['norm']\n",
      "2021-12-03 07:45:58 INFO    GTAnalysis.free_source(): Freeing parameters for 4FGL J0316.8+4120     : ['Prefactor']\n",
      "2021-12-03 07:45:58 INFO    GTAnalysis.free_source(): Freeing parameters for 4FGL J0315.5+4231     : ['Prefactor']\n",
      "2021-12-03 07:45:58 INFO    GTAnalysis.free_source(): Freeing parameters for 4FGL J0312.9+4119     : ['Prefactor']\n",
      "2021-12-03 07:45:58 INFO    GTAnalysis.free_source(): Freeing parameters for 4FGL J0311.6+4134     : ['Prefactor']\n",
      "2021-12-03 07:45:58 INFO    GTAnalysis.free_source(): Freeing parameters for 4FGL J0333.8+4007     : ['Prefactor']\n",
      "2021-12-03 07:45:58 INFO    GTAnalysis.free_source(): Freeing parameters for isodiff               : ['Normalization']\n",
      "2021-12-03 07:45:58 INFO    GTAnalysis.free_source(): Freeing parameters for galdiff               : ['Prefactor']\n"
     ]
    }
   ],
   "source": [
    "gta.free_sources(distance=3.0,pars='norm') #frees the point sources\n",
    "gta.free_source('galdiff', pars='norm') #frees the galactic diffuse\n",
    "gta.free_source('isodiff', pars='norm') #frees the isotropic diffuse"
   ]
  },
  {
   "cell_type": "markdown",
   "metadata": {},
   "source": [
    "Now our sources are freed, we can execute our fit with this simple command:"
   ]
  },
  {
   "cell_type": "code",
   "execution_count": 19,
   "metadata": {},
   "outputs": [
    {
     "name": "stderr",
     "output_type": "stream",
     "text": [
      "2021-12-03 07:46:10 INFO    GTAnalysis.fit(): Starting fit.\n",
      "2021-12-03 07:46:15 INFO    GTAnalysis.fit(): Fit returned successfully. Quality:   3 Status:   0\n",
      "2021-12-03 07:46:15 INFO    GTAnalysis.fit(): LogLike:  -184296.795 DeltaLogLike:        2.378 \n"
     ]
    },
    {
     "data": {
      "text/plain": [
       "{'fit_quality': 3,\n",
       " 'fit_status': 0,\n",
       " 'fit_success': True,\n",
       " 'dloglike': 2.3777051554934587,\n",
       " 'edm': 0.00011931280552559192,\n",
       " 'loglike': -184296.79522752092,\n",
       " 'covariance': array([[ 4.68392710e-04, -1.99298243e-04, -1.32235552e-06,\n",
       "         -1.11642836e-06,  1.05941004e-07,  9.46101055e-07,\n",
       "         -1.45673434e-07,  8.90685718e-07],\n",
       "        [-1.99298243e-04,  6.38679897e-01, -1.03212830e-02,\n",
       "         -3.88797869e-02, -1.26948002e-03,  8.17728018e-04,\n",
       "          7.74637020e-04, -6.52478868e-03],\n",
       "        [-1.32235552e-06, -1.03212830e-02,  1.77727200e-02,\n",
       "         -5.73011829e-04, -1.15044389e-04,  2.66017034e-04,\n",
       "         -5.87633774e-06, -1.22794911e-04],\n",
       "        [-1.11642836e-06, -3.88797869e-02, -5.73011829e-04,\n",
       "          1.24187460e-01, -6.91601902e-04,  6.15684984e-04,\n",
       "         -2.24229581e-05,  1.38259465e-04],\n",
       "        [ 1.05941004e-07, -1.26948002e-03, -1.15044389e-04,\n",
       "         -6.91601902e-04,  4.93362926e-05, -9.53716964e-05,\n",
       "         -9.97534819e-08, -1.89031595e-05],\n",
       "        [ 9.46101055e-07,  8.17728018e-04,  2.66017034e-04,\n",
       "          6.15684984e-04, -9.53716964e-05,  8.53999804e-02,\n",
       "         -5.04683910e-05, -5.87900277e-04],\n",
       "        [-1.45673434e-07,  7.74637020e-04, -5.87633774e-06,\n",
       "         -2.24229581e-05, -9.97534819e-08, -5.04683910e-05,\n",
       "          6.73684153e-05, -2.78173079e-04],\n",
       "        [ 8.90685718e-07, -6.52478868e-03, -1.22794911e-04,\n",
       "          1.38259465e-04, -1.89031595e-05, -5.87900277e-04,\n",
       "         -2.78173079e-04,  1.54514759e-03]]),\n",
       " 'correlation': array([[ 1.00000000e+00, -1.15227671e-02, -4.58317268e-04,\n",
       "         -1.46381746e-04,  6.96908505e-04,  1.49590350e-04,\n",
       "         -8.20062835e-04,  1.04697049e-03],\n",
       "        [-1.15227671e-02,  1.00000000e+00, -9.68757575e-02,\n",
       "         -1.38052215e-01, -2.26152291e-01,  3.50137293e-03,\n",
       "          1.18094170e-01, -2.07701600e-01],\n",
       "        [-4.58317268e-04, -9.68757575e-02,  1.00000000e+00,\n",
       "         -1.21968523e-02, -1.22858508e-01,  6.82815880e-03,\n",
       "         -5.37033816e-03, -2.34324897e-02],\n",
       "        [-1.46381746e-04, -1.38052215e-01, -1.21968523e-02,\n",
       "          1.00000000e+00, -2.79404921e-01,  5.97848031e-03,\n",
       "         -7.75221601e-03,  9.98093014e-03],\n",
       "        [ 6.96908505e-04, -2.26152291e-01, -1.22858508e-01,\n",
       "         -2.79404921e-01,  1.00000000e+00, -4.64630127e-02,\n",
       "         -1.73028101e-03, -6.84646131e-02],\n",
       "        [ 1.49590350e-04,  3.50137293e-03,  6.82815880e-03,\n",
       "          5.97848031e-03, -4.64630127e-02,  1.00000000e+00,\n",
       "         -2.10408077e-02, -5.11787641e-02],\n",
       "        [-8.20062835e-04,  1.18094170e-01, -5.37033816e-03,\n",
       "         -7.75221601e-03, -1.73028101e-03, -2.10408077e-02,\n",
       "          1.00000000e+00, -8.62187947e-01],\n",
       "        [ 1.04697049e-03, -2.07701600e-01, -2.34324897e-02,\n",
       "          9.98093014e-03, -6.84646131e-02, -5.11787641e-02,\n",
       "         -8.62187947e-01,  1.00000000e+00]]),\n",
       " 'values': array([1.27264307e-04, 1.24411340e+00, 6.91942380e-03, 6.13028248e-01,\n",
       "        3.15073075e-01, 9.15531059e-01, 9.17963694e-01, 1.15543995e+00]),\n",
       " 'errors': array([0.02164238, 0.79917451, 0.13331437, 0.35240241, 0.00702398,\n",
       "        0.29223275, 0.00820783, 0.03930837]),\n",
       " 'indices': array([ 57,  63,  69,  72,  75,  92, 175, 178]),\n",
       " 'is_norm': array([ True,  True,  True,  True,  True,  True,  True,  True]),\n",
       " 'src_names': ['4FGL J0311.6+4134',\n",
       "  '4FGL J0312.9+4119',\n",
       "  '4FGL J0315.5+4231',\n",
       "  '4FGL J0316.8+4120',\n",
       "  '4FGL J0319.8+4130',\n",
       "  '4FGL J0333.8+4007',\n",
       "  'galdiff',\n",
       "  'isodiff'],\n",
       " 'par_names': ['Prefactor',\n",
       "  'Prefactor',\n",
       "  'Prefactor',\n",
       "  'Prefactor',\n",
       "  'norm',\n",
       "  'Prefactor',\n",
       "  'Prefactor',\n",
       "  'Normalization'],\n",
       " 'config': {'optimizer': 'MINUIT',\n",
       "  'tol': 0.001,\n",
       "  'max_iter': 100,\n",
       "  'init_lambda': 0.0001,\n",
       "  'retries': 3,\n",
       "  'min_fit_quality': 2,\n",
       "  'verbosity': 0,\n",
       "  'covar': True,\n",
       "  'reoptimize': False},\n",
       " 'niter': 1}"
      ]
     },
     "execution_count": 19,
     "metadata": {},
     "output_type": "execute_result"
    }
   ],
   "source": [
    "gta.fit()"
   ]
  },
  {
   "cell_type": "markdown",
   "metadata": {},
   "source": [
    "And we're done! We've successfully built a model using the Science Tools, and fitted it to our data in a few simple lines of code. Now we've done our modelling, we should really check how accurate it is. Fortunately, thereis an easy way to do this, called a residual map. Our data shows the number of photons in each bin, and our model tries to predict this, so by subtracting one from the other on a bin by bin basis, we are able to see how well our model predicts the data."
   ]
  },
  {
   "cell_type": "code",
   "execution_count": 20,
   "metadata": {},
   "outputs": [
    {
     "name": "stderr",
     "output_type": "stream",
     "text": [
      "2021-12-03 07:46:25 INFO    GTAnalysis.residmap(): Generating residual maps\n",
      "2021-12-03 07:46:25 INFO    GTAnalysis.add_source(): Adding source residmap_testsource\n",
      "2021-12-03 07:46:30 INFO    GTAnalysis.delete_source(): Deleting source residmap_testsource\n",
      "/miniconda3/envs/fermipy-v1-0-1/lib/python3.7/site-packages/fermipy/plotting.py:164: MatplotlibDeprecationWarning: Passing raw data via parameters data and lut to register_cmap() is deprecated since 3.3 and will become an error two minor releases later. Instead use: register_cmap(cmap=LinearSegmentedColormap(name, data, lut))\n",
      "  plt.register_cmap(name='bluered', data=bluered)\n",
      "/miniconda3/envs/fermipy-v1-0-1/lib/python3.7/site-packages/fermipy/plotting.py:146: MatplotlibDeprecationWarning: Passing raw data via parameters data and lut to register_cmap() is deprecated since 3.3 and will become an error two minor releases later. Instead use: register_cmap(cmap=LinearSegmentedColormap(name, data, lut))\n",
      "  plt.register_cmap(name='ds9_b', data=ds9_b)\n",
      "/miniconda3/envs/fermipy-v1-0-1/lib/python3.7/site-packages/fermipy/plotting.py:301: MatplotlibDeprecationWarning: You are modifying the state of a globally registered colormap. In future versions, you will not be able to modify a registered colormap in-place. To remove this warning, you can make a copy of the colormap first. cmap = copy.copy(mpl.cm.get_cmap(\"RdBu_r\"))\n",
      "  colormap.set_under(colormap(0))\n",
      "/miniconda3/envs/fermipy-v1-0-1/lib/python3.7/site-packages/astropy/visualization/wcsaxes/core.py:202: MatplotlibDeprecationWarning: Passing parameters norm and vmin/vmax simultaneously is deprecated since 3.3 and will become an error two minor releases later. Please pass vmin/vmax directly to the norm when creating it.\n",
      "  return super().imshow(X, *args, origin=origin, **kwargs)\n",
      "/miniconda3/envs/fermipy-v1-0-1/lib/python3.7/site-packages/astropy/visualization/wcsaxes/core.py:225: UserWarning: No contour levels were found within the data range.\n",
      "  cset = super().contour(*args, **kwargs)\n",
      "/miniconda3/envs/fermipy-v1-0-1/lib/python3.7/site-packages/astropy/visualization/wcsaxes/core.py:458: MatplotlibDeprecationWarning: \n",
      "The 'inframe' parameter of draw() was deprecated in Matplotlib 3.3 and will be removed two minor releases later. Use Axes.redraw_in_frame() instead. If any parameter follows 'inframe', they should be passed as keyword, not positionally.\n",
      "  super().draw(renderer, inframe=inframe)\n",
      "/miniconda3/envs/fermipy-v1-0-1/lib/python3.7/site-packages/astropy/visualization/wcsaxes/core.py:458: MatplotlibDeprecationWarning: \n",
      "The 'inframe' parameter of draw() was deprecated in Matplotlib 3.3 and will be removed two minor releases later. Use Axes.redraw_in_frame() instead. If any parameter follows 'inframe', they should be passed as keyword, not positionally.\n",
      "  super().draw(renderer, inframe=inframe)\n",
      "/miniconda3/envs/fermipy-v1-0-1/lib/python3.7/site-packages/fermipy/plotting.py:146: MatplotlibDeprecationWarning: Passing raw data via parameters data and lut to register_cmap() is deprecated since 3.3 and will become an error two minor releases later. Instead use: register_cmap(cmap=LinearSegmentedColormap(name, data, lut))\n",
      "  plt.register_cmap(name='ds9_b', data=ds9_b)\n",
      "/miniconda3/envs/fermipy-v1-0-1/lib/python3.7/site-packages/fermipy/plotting.py:301: MatplotlibDeprecationWarning: You are modifying the state of a globally registered colormap. In future versions, you will not be able to modify a registered colormap in-place. To remove this warning, you can make a copy of the colormap first. cmap = copy.copy(mpl.cm.get_cmap(\"magma\"))\n",
      "  colormap.set_under(colormap(0))\n",
      "/miniconda3/envs/fermipy-v1-0-1/lib/python3.7/site-packages/astropy/visualization/wcsaxes/core.py:202: MatplotlibDeprecationWarning: Passing parameters norm and vmin/vmax simultaneously is deprecated since 3.3 and will become an error two minor releases later. Please pass vmin/vmax directly to the norm when creating it.\n",
      "  return super().imshow(X, *args, origin=origin, **kwargs)\n",
      "/miniconda3/envs/fermipy-v1-0-1/lib/python3.7/site-packages/astropy/visualization/wcsaxes/core.py:458: MatplotlibDeprecationWarning: \n",
      "The 'inframe' parameter of draw() was deprecated in Matplotlib 3.3 and will be removed two minor releases later. Use Axes.redraw_in_frame() instead. If any parameter follows 'inframe', they should be passed as keyword, not positionally.\n",
      "  super().draw(renderer, inframe=inframe)\n",
      "/miniconda3/envs/fermipy-v1-0-1/lib/python3.7/site-packages/astropy/visualization/wcsaxes/core.py:458: MatplotlibDeprecationWarning: \n",
      "The 'inframe' parameter of draw() was deprecated in Matplotlib 3.3 and will be removed two minor releases later. Use Axes.redraw_in_frame() instead. If any parameter follows 'inframe', they should be passed as keyword, not positionally.\n",
      "  super().draw(renderer, inframe=inframe)\n",
      "/miniconda3/envs/fermipy-v1-0-1/lib/python3.7/site-packages/fermipy/plotting.py:146: MatplotlibDeprecationWarning: Passing raw data via parameters data and lut to register_cmap() is deprecated since 3.3 and will become an error two minor releases later. Instead use: register_cmap(cmap=LinearSegmentedColormap(name, data, lut))\n",
      "  plt.register_cmap(name='ds9_b', data=ds9_b)\n",
      "/miniconda3/envs/fermipy-v1-0-1/lib/python3.7/site-packages/fermipy/plotting.py:301: MatplotlibDeprecationWarning: You are modifying the state of a globally registered colormap. In future versions, you will not be able to modify a registered colormap in-place. To remove this warning, you can make a copy of the colormap first. cmap = copy.copy(mpl.cm.get_cmap(\"magma\"))\n",
      "  colormap.set_under(colormap(0))\n",
      "/miniconda3/envs/fermipy-v1-0-1/lib/python3.7/site-packages/astropy/visualization/wcsaxes/core.py:202: MatplotlibDeprecationWarning: Passing parameters norm and vmin/vmax simultaneously is deprecated since 3.3 and will become an error two minor releases later. Please pass vmin/vmax directly to the norm when creating it.\n",
      "  return super().imshow(X, *args, origin=origin, **kwargs)\n",
      "/miniconda3/envs/fermipy-v1-0-1/lib/python3.7/site-packages/astropy/visualization/wcsaxes/core.py:458: MatplotlibDeprecationWarning: \n",
      "The 'inframe' parameter of draw() was deprecated in Matplotlib 3.3 and will be removed two minor releases later. Use Axes.redraw_in_frame() instead. If any parameter follows 'inframe', they should be passed as keyword, not positionally.\n",
      "  super().draw(renderer, inframe=inframe)\n",
      "/miniconda3/envs/fermipy-v1-0-1/lib/python3.7/site-packages/astropy/visualization/wcsaxes/core.py:458: MatplotlibDeprecationWarning: \n",
      "The 'inframe' parameter of draw() was deprecated in Matplotlib 3.3 and will be removed two minor releases later. Use Axes.redraw_in_frame() instead. If any parameter follows 'inframe', they should be passed as keyword, not positionally.\n",
      "  super().draw(renderer, inframe=inframe)\n",
      "/miniconda3/envs/fermipy-v1-0-1/lib/python3.7/site-packages/fermipy/plotting.py:146: MatplotlibDeprecationWarning: Passing raw data via parameters data and lut to register_cmap() is deprecated since 3.3 and will become an error two minor releases later. Instead use: register_cmap(cmap=LinearSegmentedColormap(name, data, lut))\n",
      "  plt.register_cmap(name='ds9_b', data=ds9_b)\n",
      "/miniconda3/envs/fermipy-v1-0-1/lib/python3.7/site-packages/fermipy/plotting.py:301: MatplotlibDeprecationWarning: You are modifying the state of a globally registered colormap. In future versions, you will not be able to modify a registered colormap in-place. To remove this warning, you can make a copy of the colormap first. cmap = copy.copy(mpl.cm.get_cmap(\"RdBu_r\"))\n",
      "  colormap.set_under(colormap(0))\n",
      "/miniconda3/envs/fermipy-v1-0-1/lib/python3.7/site-packages/astropy/visualization/wcsaxes/core.py:458: MatplotlibDeprecationWarning: \n",
      "The 'inframe' parameter of draw() was deprecated in Matplotlib 3.3 and will be removed two minor releases later. Use Axes.redraw_in_frame() instead. If any parameter follows 'inframe', they should be passed as keyword, not positionally.\n",
      "  super().draw(renderer, inframe=inframe)\n",
      "/miniconda3/envs/fermipy-v1-0-1/lib/python3.7/site-packages/astropy/visualization/wcsaxes/core.py:458: MatplotlibDeprecationWarning: \n",
      "The 'inframe' parameter of draw() was deprecated in Matplotlib 3.3 and will be removed two minor releases later. Use Axes.redraw_in_frame() instead. If any parameter follows 'inframe', they should be passed as keyword, not positionally.\n",
      "  super().draw(renderer, inframe=inframe)\n",
      "2021-12-03 07:46:34 INFO    GTAnalysis.residmap(): Finished residual maps\n"
     ]
    },
    {
     "name": "stderr",
     "output_type": "stream",
     "text": [
      "2021-12-03 07:46:48 WARNING GTAnalysis.residmap(): Saving maps in .npy files is disabled b/c of incompatibilities in python3, remove the maps from the /workdir/pointsource_powerlaw_2.00_residmap.npy\n",
      "2021-12-03 07:46:48 INFO    GTAnalysis.residmap(): Execution time: 23.08 s\n"
     ]
    },
    {
     "data": {
      "text/plain": [
       "{'name': 'pointsource_powerlaw_2.00',\n",
       " 'projtype': 'WCS',\n",
       " 'file': 'pointsource_powerlaw_2.00_residmap.fits',\n",
       " 'sigma': WcsNDMap\n",
       " \n",
       " \tgeom  : WcsGeom \n",
       "  \taxes  : ['lon', 'lat']\n",
       " \tshape : (150, 150)\n",
       " \tndim  : 2\n",
       " \tunit  : \n",
       " \tdtype : float64,\n",
       " 'model': WcsNDMap\n",
       " \n",
       " \tgeom  : WcsGeom \n",
       "  \taxes  : ['lon', 'lat']\n",
       " \tshape : (150, 150)\n",
       " \tndim  : 2\n",
       " \tunit  : \n",
       " \tdtype : float64,\n",
       " 'data': WcsNDMap\n",
       " \n",
       " \tgeom  : WcsGeom \n",
       "  \taxes  : ['lon', 'lat']\n",
       " \tshape : (150, 150)\n",
       " \tndim  : 2\n",
       " \tunit  : \n",
       " \tdtype : float64,\n",
       " 'excess': WcsNDMap\n",
       " \n",
       " \tgeom  : WcsGeom \n",
       "  \taxes  : ['lon', 'lat']\n",
       " \tshape : (150, 150)\n",
       " \tndim  : 2\n",
       " \tunit  : \n",
       " \tdtype : float64,\n",
       " 'mask': None,\n",
       " 'config': {'model': {'Index': 2.0,\n",
       "   'SpectrumType': 'PowerLaw',\n",
       "   'SpatialModel': 'PointSource',\n",
       "   'Prefactor': 1e-13},\n",
       "  'exclude': [],\n",
       "  'loge_bounds': [],\n",
       "  'make_plots': True,\n",
       "  'use_weights': False,\n",
       "  'write_fits': True,\n",
       "  'write_npy': True}}"
      ]
     },
     "execution_count": 20,
     "metadata": {},
     "output_type": "execute_result"
    }
   ],
   "source": [
    "gta.residmap(make_plots=True)"
   ]
  },
  {
   "cell_type": "markdown",
   "metadata": {},
   "source": [
    "As we included the 'make_plots=True' arguement in our command, Fermipy has automatically generated some plots of our residual maps for us to look at. Generally these 'diagnostic plots' are of poor quality. We wouldn't consider them for publication, and in the case of SED diagnostic plots, we know that they can be wrong all together! However, for now the residual map plots are fine. \n",
    "\n",
    "First we can look at our data itself:\n",
    "\n",
    "![data_counts](img/data_counts.png)\n",
    "\n",
    "The big bright blob in the centre is our galaxy, NGC 1275 (or 4FGL J0319.8+4130 in the 4FGL). We can see there are some other, less bright sources nearby, and a large amount of diffuse emission in the top left of the map, this is from the Galactic plane! Clearly though NGC 1275 is the brightest thing in our ROI, which is useful (although not always the case depending on what you're looking at). \n",
    "\n",
    "Now though, we can look at our model:\n",
    "\n",
    "![model_counts](img/model_counts.png)\n",
    "\n",
    "The two maps are almost indistinguishable from one another, which is good! We want our modelling to be as representative of our data as possible. Now subtracting the two... \n",
    "\n",
    "![rmap_counts](img/rmap_counts.png)\n",
    "\n",
    "We can see that across the ROI, we have an excess of counts (the red), wwhich indicates that we are undermodelling the data (not predicting enough counts). But right in the centre, we have the opposite problem of overmodelling. To see how much of an issue this is, we need to turn these counts numbers into something more statistically meaningful.\n",
    "\n",
    "![rmap_sigma](img/rmap_sigma.png)\n",
    "\n",
    "Now we see that our overmodelling and undermodelling are not very statistically significant, and thus we can be confident that our ROI is modelled well.\n",
    "\n",
    "Examining our maps, we can notice that all of our sources in the model are from the 4FGL. This is because when we built the model, Fermipy used the 4FGL to automatically insert all of the known 4FGL sources into our model. It would however be naive to assume that this is the most accurate representation of our ROI. One major issue is sources that may not be catalogued. Luckily, we have a method to deal with that. First, we will generate a TS map of our ROI. The TS (test statistic) is a statistic which arises from our likelihood modelling, but directly correlates to a significance value for $k$ degrees of freedom between hypotheses. For one degree of freedom however, the square root of the TS gives us our significance value, so a TS of 9 is $3 \\sigma$ etc. When we generate a TS map, it will give us the sigtnificance of any unmodelled emission across the ROI, and thus let us see if there is any emission left to be modelled!"
   ]
  },
  {
   "cell_type": "code",
   "execution_count": 21,
   "metadata": {
    "scrolled": true
   },
   "outputs": [
    {
     "name": "stderr",
     "output_type": "stream",
     "text": [
      "2021-12-03 07:47:21 INFO    GTAnalysis.tsmap(): Generating TS map\n",
      "2021-12-03 07:47:28 INFO    GTAnalysis._make_tsmap_fast(): Fitting test source.\n",
      "/miniconda3/envs/fermipy-v1-0-1/lib/python3.7/site-packages/fermipy/plotting.py:146: MatplotlibDeprecationWarning: Passing raw data via parameters data and lut to register_cmap() is deprecated since 3.3 and will become an error two minor releases later. Instead use: register_cmap(cmap=LinearSegmentedColormap(name, data, lut))\n",
      "  plt.register_cmap(name='ds9_b', data=ds9_b)\n",
      "/miniconda3/envs/fermipy-v1-0-1/lib/python3.7/site-packages/fermipy/plotting.py:301: MatplotlibDeprecationWarning: You are modifying the state of a globally registered colormap. In future versions, you will not be able to modify a registered colormap in-place. To remove this warning, you can make a copy of the colormap first. cmap = copy.copy(mpl.cm.get_cmap(\"magma\"))\n",
      "  colormap.set_under(colormap(0))\n",
      "/miniconda3/envs/fermipy-v1-0-1/lib/python3.7/site-packages/astropy/visualization/wcsaxes/core.py:202: MatplotlibDeprecationWarning: Passing parameters norm and vmin/vmax simultaneously is deprecated since 3.3 and will become an error two minor releases later. Please pass vmin/vmax directly to the norm when creating it.\n",
      "  return super().imshow(X, *args, origin=origin, **kwargs)\n",
      "/miniconda3/envs/fermipy-v1-0-1/lib/python3.7/site-packages/astropy/visualization/wcsaxes/core.py:458: MatplotlibDeprecationWarning: \n",
      "The 'inframe' parameter of draw() was deprecated in Matplotlib 3.3 and will be removed two minor releases later. Use Axes.redraw_in_frame() instead. If any parameter follows 'inframe', they should be passed as keyword, not positionally.\n",
      "  super().draw(renderer, inframe=inframe)\n",
      "/miniconda3/envs/fermipy-v1-0-1/lib/python3.7/site-packages/astropy/visualization/wcsaxes/core.py:458: MatplotlibDeprecationWarning: \n",
      "The 'inframe' parameter of draw() was deprecated in Matplotlib 3.3 and will be removed two minor releases later. Use Axes.redraw_in_frame() instead. If any parameter follows 'inframe', they should be passed as keyword, not positionally.\n",
      "  super().draw(renderer, inframe=inframe)\n",
      "/miniconda3/envs/fermipy-v1-0-1/lib/python3.7/site-packages/fermipy/plotting.py:146: MatplotlibDeprecationWarning: Passing raw data via parameters data and lut to register_cmap() is deprecated since 3.3 and will become an error two minor releases later. Instead use: register_cmap(cmap=LinearSegmentedColormap(name, data, lut))\n",
      "  plt.register_cmap(name='ds9_b', data=ds9_b)\n",
      "/miniconda3/envs/fermipy-v1-0-1/lib/python3.7/site-packages/fermipy/plotting.py:301: MatplotlibDeprecationWarning: You are modifying the state of a globally registered colormap. In future versions, you will not be able to modify a registered colormap in-place. To remove this warning, you can make a copy of the colormap first. cmap = copy.copy(mpl.cm.get_cmap(\"magma\"))\n",
      "  colormap.set_under(colormap(0))\n",
      "/miniconda3/envs/fermipy-v1-0-1/lib/python3.7/site-packages/astropy/visualization/wcsaxes/core.py:202: MatplotlibDeprecationWarning: Passing parameters norm and vmin/vmax simultaneously is deprecated since 3.3 and will become an error two minor releases later. Please pass vmin/vmax directly to the norm when creating it.\n",
      "  return super().imshow(X, *args, origin=origin, **kwargs)\n",
      "/miniconda3/envs/fermipy-v1-0-1/lib/python3.7/site-packages/astropy/visualization/wcsaxes/core.py:458: MatplotlibDeprecationWarning: \n",
      "The 'inframe' parameter of draw() was deprecated in Matplotlib 3.3 and will be removed two minor releases later. Use Axes.redraw_in_frame() instead. If any parameter follows 'inframe', they should be passed as keyword, not positionally.\n",
      "  super().draw(renderer, inframe=inframe)\n",
      "/miniconda3/envs/fermipy-v1-0-1/lib/python3.7/site-packages/astropy/visualization/wcsaxes/core.py:458: MatplotlibDeprecationWarning: \n",
      "The 'inframe' parameter of draw() was deprecated in Matplotlib 3.3 and will be removed two minor releases later. Use Axes.redraw_in_frame() instead. If any parameter follows 'inframe', they should be passed as keyword, not positionally.\n",
      "  super().draw(renderer, inframe=inframe)\n",
      "2021-12-03 07:48:28 INFO    GTAnalysis.tsmap(): Finished TS map\n",
      "2021-12-03 07:48:44 WARNING GTAnalysis.tsmap(): Saving TS maps in .npy files is disabled b/c of incompatibilities in python3, remove the maps from the /workdir/pointsource_powerlaw_2.00_tsmap.npy\n",
      "2021-12-03 07:48:44 INFO    GTAnalysis.tsmap(): Execution time: 83.27 s\n"
     ]
    },
    {
     "data": {
      "text/plain": [
       "{'name': 'pointsource_powerlaw_2.00',\n",
       " 'src_dict': {'Index': 2.0,\n",
       "  'SpectrumType': 'PowerLaw',\n",
       "  'SpatialModel': 'PointSource',\n",
       "  'ra': 50.02422102768935,\n",
       "  'dec': 41.46208092429969,\n",
       "  'SpatialWidth': 0.3,\n",
       "  'Prefactor': 1e-13},\n",
       " 'file': 'pointsource_powerlaw_2.00_tsmap.fits',\n",
       " 'ts': WcsNDMap\n",
       " \n",
       " \tgeom  : WcsGeom \n",
       "  \taxes  : ['lon', 'lat']\n",
       " \tshape : (150, 150)\n",
       " \tndim  : 2\n",
       " \tunit  : \n",
       " \tdtype : float64,\n",
       " 'sqrt_ts': WcsNDMap\n",
       " \n",
       " \tgeom  : WcsGeom \n",
       "  \taxes  : ['lon', 'lat']\n",
       " \tshape : (150, 150)\n",
       " \tndim  : 2\n",
       " \tunit  : \n",
       " \tdtype : float64,\n",
       " 'npred': WcsNDMap\n",
       " \n",
       " \tgeom  : WcsGeom \n",
       "  \taxes  : ['lon', 'lat']\n",
       " \tshape : (150, 150)\n",
       " \tndim  : 2\n",
       " \tunit  : \n",
       " \tdtype : float64,\n",
       " 'amplitude': WcsNDMap\n",
       " \n",
       " \tgeom  : WcsGeom \n",
       "  \taxes  : ['lon', 'lat']\n",
       " \tshape : (150, 150)\n",
       " \tndim  : 2\n",
       " \tunit  : \n",
       " \tdtype : float64,\n",
       " 'loglike': -184296.79522752092,\n",
       " 'config': {'model': {'Index': 2.0,\n",
       "   'SpectrumType': 'PowerLaw',\n",
       "   'SpatialModel': 'PointSource'},\n",
       "  'exclude': [],\n",
       "  'multithread': False,\n",
       "  'nthread': None,\n",
       "  'max_kernel_radius': 3.0,\n",
       "  'loge_bounds': [],\n",
       "  'make_plots': True,\n",
       "  'write_fits': True,\n",
       "  'write_npy': True,\n",
       "  'loglevel': 20,\n",
       "  'map_size': None,\n",
       "  'threshold': 0.01,\n",
       "  'use_pylike': True,\n",
       "  'outfile': None}}"
      ]
     },
     "execution_count": 21,
     "metadata": {},
     "output_type": "execute_result"
    }
   ],
   "source": [
    "gta.tsmap(make_plots=True)"
   ]
  },
  {
   "cell_type": "markdown",
   "metadata": {},
   "source": [
    "Now, pulling up our TS map (in significance) we can see there are a few hot spots of emission, but nothing too much to worry about. \n",
    "\n",
    "![TS_sigma](img/TS_sigma.png)\n",
    "\n",
    "To be safe, we can run a source finding algorithm, which will fit a point source to any position with a significance $> 3 \\sigma$. It does like to take a few minutes though, so use this oppourtunity to go and get a coffee/beer depending on whether its before/after 4pm."
   ]
  },
  {
   "cell_type": "code",
   "execution_count": 22,
   "metadata": {
    "scrolled": true
   },
   "outputs": [
    {
     "name": "stderr",
     "output_type": "stream",
     "text": [
      "2021-12-03 07:49:32 INFO    GTAnalysis.find_sources(): Starting.\n",
      "2021-12-03 07:49:32 INFO    GTAnalysis.tsmap(): Generating TS map\n",
      "2021-12-03 07:49:39 INFO    GTAnalysis._make_tsmap_fast(): Fitting test source.\n",
      "2021-12-03 07:50:36 INFO    GTAnalysis.tsmap(): Finished TS map\n",
      "2021-12-03 07:50:53 WARNING GTAnalysis.tsmap(): Saving TS maps in .npy files is disabled b/c of incompatibilities in python3, remove the maps from the /workdir/sourcefind_00_pointsource_powerlaw_2.00_tsmap.npy\n",
      "2021-12-03 07:50:53 INFO    GTAnalysis.tsmap(): Execution time: 81.15 s\n",
      "2021-12-03 07:50:53 INFO    GTAnalysis.find_sources(): Found 0 sources in iteration 0.\n",
      "2021-12-03 07:50:53 INFO    GTAnalysis.find_sources(): Done.\n",
      "2021-12-03 07:50:53 INFO    GTAnalysis.find_sources(): Execution time: 81.17 s\n"
     ]
    },
    {
     "data": {
      "text/plain": [
       "{'sources': [], 'peaks': []}"
      ]
     },
     "execution_count": 22,
     "metadata": {},
     "output_type": "execute_result"
    }
   ],
   "source": [
    "gta.find_sources(sqrt_ts_threshold=5.0, min_separation=0.5)"
   ]
  },
  {
   "cell_type": "markdown",
   "metadata": {},
   "source": [
    "And we're done! If we re run our TS map, we'll see.."
   ]
  },
  {
   "cell_type": "code",
   "execution_count": 23,
   "metadata": {
    "scrolled": true
   },
   "outputs": [
    {
     "name": "stderr",
     "output_type": "stream",
     "text": [
      "2021-12-03 07:51:00 INFO    GTAnalysis.tsmap(): Generating TS map\n",
      "2021-12-03 07:51:06 INFO    GTAnalysis._make_tsmap_fast(): Fitting test source.\n",
      "/miniconda3/envs/fermipy-v1-0-1/lib/python3.7/site-packages/fermipy/plotting.py:146: MatplotlibDeprecationWarning: Passing raw data via parameters data and lut to register_cmap() is deprecated since 3.3 and will become an error two minor releases later. Instead use: register_cmap(cmap=LinearSegmentedColormap(name, data, lut))\n",
      "  plt.register_cmap(name='ds9_b', data=ds9_b)\n",
      "/miniconda3/envs/fermipy-v1-0-1/lib/python3.7/site-packages/fermipy/plotting.py:301: MatplotlibDeprecationWarning: You are modifying the state of a globally registered colormap. In future versions, you will not be able to modify a registered colormap in-place. To remove this warning, you can make a copy of the colormap first. cmap = copy.copy(mpl.cm.get_cmap(\"magma\"))\n",
      "  colormap.set_under(colormap(0))\n",
      "/miniconda3/envs/fermipy-v1-0-1/lib/python3.7/site-packages/astropy/visualization/wcsaxes/core.py:202: MatplotlibDeprecationWarning: Passing parameters norm and vmin/vmax simultaneously is deprecated since 3.3 and will become an error two minor releases later. Please pass vmin/vmax directly to the norm when creating it.\n",
      "  return super().imshow(X, *args, origin=origin, **kwargs)\n",
      "/miniconda3/envs/fermipy-v1-0-1/lib/python3.7/site-packages/astropy/visualization/wcsaxes/core.py:458: MatplotlibDeprecationWarning: \n",
      "The 'inframe' parameter of draw() was deprecated in Matplotlib 3.3 and will be removed two minor releases later. Use Axes.redraw_in_frame() instead. If any parameter follows 'inframe', they should be passed as keyword, not positionally.\n",
      "  super().draw(renderer, inframe=inframe)\n",
      "/miniconda3/envs/fermipy-v1-0-1/lib/python3.7/site-packages/astropy/visualization/wcsaxes/core.py:458: MatplotlibDeprecationWarning: \n",
      "The 'inframe' parameter of draw() was deprecated in Matplotlib 3.3 and will be removed two minor releases later. Use Axes.redraw_in_frame() instead. If any parameter follows 'inframe', they should be passed as keyword, not positionally.\n",
      "  super().draw(renderer, inframe=inframe)\n",
      "/miniconda3/envs/fermipy-v1-0-1/lib/python3.7/site-packages/fermipy/plotting.py:146: MatplotlibDeprecationWarning: Passing raw data via parameters data and lut to register_cmap() is deprecated since 3.3 and will become an error two minor releases later. Instead use: register_cmap(cmap=LinearSegmentedColormap(name, data, lut))\n",
      "  plt.register_cmap(name='ds9_b', data=ds9_b)\n",
      "/miniconda3/envs/fermipy-v1-0-1/lib/python3.7/site-packages/fermipy/plotting.py:301: MatplotlibDeprecationWarning: You are modifying the state of a globally registered colormap. In future versions, you will not be able to modify a registered colormap in-place. To remove this warning, you can make a copy of the colormap first. cmap = copy.copy(mpl.cm.get_cmap(\"magma\"))\n",
      "  colormap.set_under(colormap(0))\n",
      "/miniconda3/envs/fermipy-v1-0-1/lib/python3.7/site-packages/astropy/visualization/wcsaxes/core.py:202: MatplotlibDeprecationWarning: Passing parameters norm and vmin/vmax simultaneously is deprecated since 3.3 and will become an error two minor releases later. Please pass vmin/vmax directly to the norm when creating it.\n",
      "  return super().imshow(X, *args, origin=origin, **kwargs)\n",
      "/miniconda3/envs/fermipy-v1-0-1/lib/python3.7/site-packages/astropy/visualization/wcsaxes/core.py:458: MatplotlibDeprecationWarning: \n",
      "The 'inframe' parameter of draw() was deprecated in Matplotlib 3.3 and will be removed two minor releases later. Use Axes.redraw_in_frame() instead. If any parameter follows 'inframe', they should be passed as keyword, not positionally.\n",
      "  super().draw(renderer, inframe=inframe)\n",
      "/miniconda3/envs/fermipy-v1-0-1/lib/python3.7/site-packages/astropy/visualization/wcsaxes/core.py:458: MatplotlibDeprecationWarning: \n",
      "The 'inframe' parameter of draw() was deprecated in Matplotlib 3.3 and will be removed two minor releases later. Use Axes.redraw_in_frame() instead. If any parameter follows 'inframe', they should be passed as keyword, not positionally.\n",
      "  super().draw(renderer, inframe=inframe)\n",
      "2021-12-03 07:52:06 INFO    GTAnalysis.tsmap(): Finished TS map\n",
      "2021-12-03 07:52:22 WARNING GTAnalysis.tsmap(): Saving TS maps in .npy files is disabled b/c of incompatibilities in python3, remove the maps from the /workdir/pointsource_powerlaw_2.00_tsmap.npy\n",
      "2021-12-03 07:52:22 INFO    GTAnalysis.tsmap(): Execution time: 82.49 s\n"
     ]
    },
    {
     "data": {
      "text/plain": [
       "{'name': 'pointsource_powerlaw_2.00',\n",
       " 'src_dict': {'Index': 2.0,\n",
       "  'SpectrumType': 'PowerLaw',\n",
       "  'SpatialModel': 'PointSource',\n",
       "  'ra': 50.02422102768935,\n",
       "  'dec': 41.46208092429969,\n",
       "  'SpatialWidth': 0.3,\n",
       "  'Prefactor': 1e-13},\n",
       " 'file': 'pointsource_powerlaw_2.00_tsmap.fits',\n",
       " 'ts': WcsNDMap\n",
       " \n",
       " \tgeom  : WcsGeom \n",
       "  \taxes  : ['lon', 'lat']\n",
       " \tshape : (150, 150)\n",
       " \tndim  : 2\n",
       " \tunit  : \n",
       " \tdtype : float64,\n",
       " 'sqrt_ts': WcsNDMap\n",
       " \n",
       " \tgeom  : WcsGeom \n",
       "  \taxes  : ['lon', 'lat']\n",
       " \tshape : (150, 150)\n",
       " \tndim  : 2\n",
       " \tunit  : \n",
       " \tdtype : float64,\n",
       " 'npred': WcsNDMap\n",
       " \n",
       " \tgeom  : WcsGeom \n",
       "  \taxes  : ['lon', 'lat']\n",
       " \tshape : (150, 150)\n",
       " \tndim  : 2\n",
       " \tunit  : \n",
       " \tdtype : float64,\n",
       " 'amplitude': WcsNDMap\n",
       " \n",
       " \tgeom  : WcsGeom \n",
       "  \taxes  : ['lon', 'lat']\n",
       " \tshape : (150, 150)\n",
       " \tndim  : 2\n",
       " \tunit  : \n",
       " \tdtype : float64,\n",
       " 'loglike': -184296.79522752092,\n",
       " 'config': {'model': {'Index': 2.0,\n",
       "   'SpectrumType': 'PowerLaw',\n",
       "   'SpatialModel': 'PointSource'},\n",
       "  'exclude': [],\n",
       "  'multithread': False,\n",
       "  'nthread': None,\n",
       "  'max_kernel_radius': 3.0,\n",
       "  'loge_bounds': [],\n",
       "  'make_plots': True,\n",
       "  'write_fits': True,\n",
       "  'write_npy': True,\n",
       "  'loglevel': 20,\n",
       "  'map_size': None,\n",
       "  'threshold': 0.01,\n",
       "  'use_pylike': True,\n",
       "  'outfile': None}}"
      ]
     },
     "execution_count": 23,
     "metadata": {},
     "output_type": "execute_result"
    }
   ],
   "source": [
    "gta.tsmap(make_plots=True)"
   ]
  },
  {
   "cell_type": "markdown",
   "metadata": {},
   "source": [
    "... that we now have some more sources added! That is very handy and should account for some of the errrant emission in our ROI. \n",
    "\n",
    "![TS_sigma2](img/TS_sigma2.png)\n",
    "\n",
    "Now we are absolutely 100% certain our ROI is as good as it can be (to be honest, we might have gone slightly overboard, but I wanted to show you all the features of Fermipy). Now we have got this far, it would be ####ing annoying if we were to lose all of this work, so now we can tidy up our ROI, and save it. When I say tidy up, I mean deleting all of our low significance sources. Just because there is a catalogued source in the 4FGL, this doesn't mean it is significant in our ROI, so we delete anything of significance $ < 3 \\sigma$"
   ]
  },
  {
   "cell_type": "code",
   "execution_count": 24,
   "metadata": {
    "scrolled": true
   },
   "outputs": [
    {
     "name": "stderr",
     "output_type": "stream",
     "text": [
      "2021-12-03 08:02:14 INFO    GTAnalysis.delete_source(): Deleting source 4FGL J0316.8+4120\n",
      "2021-12-03 08:02:14 INFO    GTAnalysis.delete_source(): Deleting source 4FGL J0315.5+4231\n",
      "2021-12-03 08:02:14 INFO    GTAnalysis.delete_source(): Deleting source 4FGL J0312.9+4119\n",
      "2021-12-03 08:02:14 INFO    GTAnalysis.delete_source(): Deleting source 4FGL J0311.6+4134\n",
      "2021-12-03 08:02:14 INFO    GTAnalysis.delete_source(): Deleting source 4FGL J0310.9+3815\n",
      "2021-12-03 08:02:14 INFO    GTAnalysis.delete_source(): Deleting source 4FGL J0349.6+4026\n",
      "2021-12-03 08:02:14 INFO    GTAnalysis.delete_source(): Deleting source 4FGL J0248.6+4230\n",
      "2021-12-03 08:02:14 INFO    GTAnalysis.delete_source(): Deleting source 4FGL J0252.9+3834\n",
      "2021-12-03 08:02:14 INFO    GTAnalysis.delete_source(): Deleting source 4FGL J0343.4+3621\n",
      "2021-12-03 08:02:14 INFO    GTAnalysis.delete_source(): Deleting source 4FGL J0348.8+4610\n",
      "2021-12-03 08:02:14 INFO    GTAnalysis.delete_source(): Deleting source 4FGL J0355.3+3909\n",
      "2021-12-03 08:02:14 INFO    GTAnalysis.delete_source(): Deleting source 4FGL J0300.4+3450\n",
      "2021-12-03 08:02:14 INFO    GTAnalysis.delete_source(): Deleting source 4FGL J0359.7+4445\n",
      "2021-12-03 08:02:14 INFO    GTAnalysis.delete_source(): Deleting source 4FGL J0325.3+3332\n",
      "2021-12-03 08:02:14 INFO    GTAnalysis.delete_source(): Deleting source 4FGL J0400.7+3920\n",
      "2021-12-03 08:02:14 INFO    GTAnalysis.delete_source(): Deleting source 4FGL J0304.5+3349\n",
      "2021-12-03 08:02:14 INFO    GTAnalysis.delete_source(): Deleting source 4FGL J0302.5+3354\n",
      "2021-12-03 08:02:14 INFO    GTAnalysis.delete_source(): Deleting source 4FGL J0344.4+3432\n",
      "2021-12-03 08:02:15 INFO    GTAnalysis.delete_source(): Deleting source 4FGL J0347.0+4844\n",
      "2021-12-03 08:02:15 INFO    GTAnalysis.delete_source(): Deleting source 4FGL J0257.0+3358\n",
      "2021-12-03 08:02:15 INFO    GTAnalysis.delete_source(): Deleting source 4FGL J0245.0+4755\n",
      "2021-12-03 08:02:15 INFO    GTAnalysis.delete_source(): Deleting source 4FGL J0314.1+5033\n",
      "2021-12-03 08:02:15 INFO    GTAnalysis.delete_source(): Deleting source 4FGL J0359.3+3626\n",
      "2021-12-03 08:02:15 INFO    GTAnalysis.delete_source(): Deleting source 4FGL J0230.8+4032\n",
      "2021-12-03 08:02:15 INFO    GTAnalysis.delete_source(): Deleting source 4FGL J0330.1+5038\n",
      "2021-12-03 08:02:15 INFO    GTAnalysis.delete_source(): Deleting source 4FGL J0410.9+4216\n",
      "2021-12-03 08:02:15 INFO    GTAnalysis.delete_source(): Deleting source 4FGL J0409.7+4006c\n",
      "2021-12-03 08:02:15 INFO    GTAnalysis.delete_source(): Deleting source 4FGL J0336.4+3224\n",
      "2021-12-03 08:02:15 INFO    GTAnalysis.delete_source(): Deleting source 4FGL J0233.0+3740\n",
      "2021-12-03 08:02:15 INFO    GTAnalysis.delete_source(): Deleting source 4FGL J0303.2+3149\n",
      "2021-12-03 08:02:15 INFO    GTAnalysis.delete_source(): Deleting source 4FGL J0346.2+3235c\n",
      "2021-12-03 08:02:15 INFO    GTAnalysis.delete_source(): Deleting source 4FGL J0253.9+5103\n",
      "2021-12-03 08:02:15 INFO    GTAnalysis.delete_source(): Deleting source 4FGL J0341.9+3153c\n",
      "2021-12-03 08:02:15 INFO    GTAnalysis.delete_source(): Deleting source 4FGL J0414.3+4522\n",
      "2021-12-03 08:02:15 INFO    GTAnalysis.delete_source(): Deleting source 4FGL J0253.5+3216\n",
      "2021-12-03 08:02:15 INFO    GTAnalysis.delete_source(): Deleting source 4FGL J0344.2+3203c\n",
      "2021-12-03 08:02:15 INFO    GTAnalysis.delete_source(): Deleting source 4FGL J0342.4+3125c\n",
      "2021-12-03 08:02:15 INFO    GTAnalysis.delete_source(): Deleting source 4FGL J0357.8+3204\n",
      "2021-12-03 08:02:15 INFO    GTAnalysis.delete_source(): Deleting source 4FGL J0222.7+5016\n"
     ]
    },
    {
     "data": {
      "text/plain": [
       "[<fermipy.roi_model.Source at 0x7f2c217911d0>,\n",
       " <fermipy.roi_model.Source at 0x7f2c21791250>,\n",
       " <fermipy.roi_model.Source at 0x7f2c21791790>,\n",
       " <fermipy.roi_model.Source at 0x7f2c215bdfd0>,\n",
       " <fermipy.roi_model.Source at 0x7f2c2160bad0>,\n",
       " <fermipy.roi_model.Source at 0x7f2c21625e90>,\n",
       " <fermipy.roi_model.Source at 0x7f2c2167bc50>,\n",
       " <fermipy.roi_model.Source at 0x7f2c2167b050>,\n",
       " <fermipy.roi_model.Source at 0x7f2c2162f8d0>,\n",
       " <fermipy.roi_model.Source at 0x7f2c2162fc50>,\n",
       " <fermipy.roi_model.Source at 0x7f2c2165a810>,\n",
       " <fermipy.roi_model.Source at 0x7f2c2167b550>,\n",
       " <fermipy.roi_model.Source at 0x7f2c21692110>,\n",
       " <fermipy.roi_model.Source at 0x7f2c2160ff90>,\n",
       " <fermipy.roi_model.Source at 0x7f2c21692b10>,\n",
       " <fermipy.roi_model.Source at 0x7f2c2167bc90>,\n",
       " <fermipy.roi_model.Source at 0x7f2c2167b710>,\n",
       " <fermipy.roi_model.Source at 0x7f2c2162f490>,\n",
       " <fermipy.roi_model.Source at 0x7f2c2162f110>,\n",
       " <fermipy.roi_model.Source at 0x7f2c2167bb90>,\n",
       " <fermipy.roi_model.Source at 0x7f2c21656f50>,\n",
       " <fermipy.roi_model.Source at 0x7f2c217917d0>,\n",
       " <fermipy.roi_model.Source at 0x7f2c21692710>,\n",
       " <fermipy.roi_model.Source at 0x7f2c21656b10>,\n",
       " <fermipy.roi_model.Source at 0x7f2c2160f3d0>,\n",
       " <fermipy.roi_model.Source at 0x7f2c21692ad0>,\n",
       " <fermipy.roi_model.Source at 0x7f2c21692950>,\n",
       " <fermipy.roi_model.Source at 0x7f2c2168f450>,\n",
       " <fermipy.roi_model.Source at 0x7f2c216562d0>,\n",
       " <fermipy.roi_model.Source at 0x7f2c2167bb10>,\n",
       " <fermipy.roi_model.Source at 0x7f2c2162f890>,\n",
       " <fermipy.roi_model.Source at 0x7f2c2167b850>,\n",
       " <fermipy.roi_model.Source at 0x7f2c2168fd90>,\n",
       " <fermipy.roi_model.Source at 0x7f2c21692d10>,\n",
       " <fermipy.roi_model.Source at 0x7f2c2167b790>,\n",
       " <fermipy.roi_model.Source at 0x7f2c2162f510>,\n",
       " <fermipy.roi_model.Source at 0x7f2c2168ff10>,\n",
       " <fermipy.roi_model.Source at 0x7f2c21692190>,\n",
       " <fermipy.roi_model.Source at 0x7f2c21674390>]"
      ]
     },
     "execution_count": 24,
     "metadata": {},
     "output_type": "execute_result"
    }
   ],
   "source": [
    "import numpy as np\n",
    "gta.delete_sources(minmax_ts=[-np.inf, 9])"
   ]
  },
  {
   "cell_type": "markdown",
   "metadata": {},
   "source": [
    "And now we will save our ROI, and generate some plots while we do so:"
   ]
  },
  {
   "cell_type": "code",
   "execution_count": 25,
   "metadata": {},
   "outputs": [
    {
     "name": "stderr",
     "output_type": "stream",
     "text": [
      "2021-12-03 08:02:23 INFO    GTBinnedAnalysis.write_xml(): Writing /workdir/NGC_1275_fit_00.xml...\n",
      "2021-12-03 08:02:23 INFO    GTAnalysis.write_fits(): Writing /workdir/NGC_1275_fit.fits...\n",
      "WARNING: Format %s cannot be mapped to the accepted TDISPn keyword values.  Format will not be moved into TDISPn keyword. [astropy.io.fits.column]\n",
      "WARNING: Format %f cannot be mapped to the accepted TDISPn keyword values.  Format will not be moved into TDISPn keyword. [astropy.io.fits.column]\n",
      "2021-12-03 08:02:44 INFO    GTAnalysis.write_roi(): Writing /workdir/NGC_1275_fit.npy...\n",
      "/miniconda3/envs/fermipy-v1-0-1/lib/python3.7/site-packages/fermipy/plotting.py:146: MatplotlibDeprecationWarning: Passing raw data via parameters data and lut to register_cmap() is deprecated since 3.3 and will become an error two minor releases later. Instead use: register_cmap(cmap=LinearSegmentedColormap(name, data, lut))\n",
      "  plt.register_cmap(name='ds9_b', data=ds9_b)\n",
      "/miniconda3/envs/fermipy-v1-0-1/lib/python3.7/site-packages/fermipy/plotting.py:301: MatplotlibDeprecationWarning: You are modifying the state of a globally registered colormap. In future versions, you will not be able to modify a registered colormap in-place. To remove this warning, you can make a copy of the colormap first. cmap = copy.copy(mpl.cm.get_cmap(\"magma\"))\n",
      "  colormap.set_under(colormap(0))\n",
      "/miniconda3/envs/fermipy-v1-0-1/lib/python3.7/site-packages/astropy/visualization/wcsaxes/core.py:458: MatplotlibDeprecationWarning: \n",
      "The 'inframe' parameter of draw() was deprecated in Matplotlib 3.3 and will be removed two minor releases later. Use Axes.redraw_in_frame() instead. If any parameter follows 'inframe', they should be passed as keyword, not positionally.\n",
      "  super().draw(renderer, inframe=inframe)\n",
      "/miniconda3/envs/fermipy-v1-0-1/lib/python3.7/site-packages/astropy/visualization/wcsaxes/core.py:458: MatplotlibDeprecationWarning: \n",
      "The 'inframe' parameter of draw() was deprecated in Matplotlib 3.3 and will be removed two minor releases later. Use Axes.redraw_in_frame() instead. If any parameter follows 'inframe', they should be passed as keyword, not positionally.\n",
      "  super().draw(renderer, inframe=inframe)\n",
      "/miniconda3/envs/fermipy-v1-0-1/lib/python3.7/site-packages/fermipy/plotting.py:146: MatplotlibDeprecationWarning: Passing raw data via parameters data and lut to register_cmap() is deprecated since 3.3 and will become an error two minor releases later. Instead use: register_cmap(cmap=LinearSegmentedColormap(name, data, lut))\n",
      "  plt.register_cmap(name='ds9_b', data=ds9_b)\n",
      "/miniconda3/envs/fermipy-v1-0-1/lib/python3.7/site-packages/fermipy/plotting.py:301: MatplotlibDeprecationWarning: You are modifying the state of a globally registered colormap. In future versions, you will not be able to modify a registered colormap in-place. To remove this warning, you can make a copy of the colormap first. cmap = copy.copy(mpl.cm.get_cmap(\"magma\"))\n",
      "  colormap.set_under(colormap(0))\n",
      "/miniconda3/envs/fermipy-v1-0-1/lib/python3.7/site-packages/astropy/visualization/wcsaxes/core.py:458: MatplotlibDeprecationWarning: \n",
      "The 'inframe' parameter of draw() was deprecated in Matplotlib 3.3 and will be removed two minor releases later. Use Axes.redraw_in_frame() instead. If any parameter follows 'inframe', they should be passed as keyword, not positionally.\n",
      "  super().draw(renderer, inframe=inframe)\n",
      "/miniconda3/envs/fermipy-v1-0-1/lib/python3.7/site-packages/astropy/visualization/wcsaxes/core.py:458: MatplotlibDeprecationWarning: \n",
      "The 'inframe' parameter of draw() was deprecated in Matplotlib 3.3 and will be removed two minor releases later. Use Axes.redraw_in_frame() instead. If any parameter follows 'inframe', they should be passed as keyword, not positionally.\n",
      "  super().draw(renderer, inframe=inframe)\n"
     ]
    }
   ],
   "source": [
    "gta.write_roi('NGC_1275_fit', make_plots=True)"
   ]
  },
  {
   "cell_type": "markdown",
   "metadata": {},
   "source": [
    "We can load an ROI back in with gta.load('NGC_1275_fit') if we need to, after defining gta again.\n",
    "\n",
    "You can feel free to peruse these plots at your own leisure, but for now, we will move on to advanced source analysis: the really fun stuff.\n",
    "\n",
    "The first thing we normally want to do, is to calculate a spectral energy distribution (SED) of the source. This shows the relationship between the flux and the energy of the source. Fermipy can do this for us quite easily. "
   ]
  },
  {
   "cell_type": "code",
   "execution_count": 26,
   "metadata": {},
   "outputs": [
    {
     "name": "stderr",
     "output_type": "stream",
     "text": [
      "2021-12-03 08:03:02 INFO    GTAnalysis.sed(): Computing SED for 4FGL J0319.8+4130\n",
      "2021-12-03 08:03:03 INFO    GTAnalysis._make_sed(): Fitting SED\n",
      "/miniconda3/envs/fermipy-v1-0-1/lib/python3.7/site-packages/scipy/interpolate/fitpack2.py:280: UserWarning: \n",
      "The maximal number of iterations maxit (set to 20 by the program)\n",
      "allowed for finding a smoothing spline with fp=s has been reached: s\n",
      "too small.\n",
      "There is an approximation returned but the corresponding weighted sum\n",
      "of squared residuals does not satisfy the condition abs(fp-s)/s < tol.\n",
      "  warnings.warn(message)\n",
      "2021-12-03 08:03:07 INFO    GTAnalysis.sed(): Finished SED\n",
      "2021-12-03 08:03:21 INFO    GTAnalysis.sed(): Execution time: 18.57 s\n"
     ]
    }
   ],
   "source": [
    "sed = gta.sed('4FGL J0319.8+4130') "
   ]
  },
  {
   "cell_type": "markdown",
   "metadata": {},
   "source": [
    "As I said before, the diagnositc plots for SEDs are often flat out incorrect, which means we need to plot our own. So lets do that!"
   ]
  },
  {
   "cell_type": "code",
   "execution_count": 27,
   "metadata": {
    "scrolled": true
   },
   "outputs": [
    {
     "data": {
      "image/png": "[encoded data removed]",
      "text/plain": [
       "<Figure size 1008x576 with 1 Axes>"
      ]
     },
     "metadata": {
      "needs_background": "light"
     },
     "output_type": "display_data"
    }
   ],
   "source": [
    "from matplotlib import pyplot as plt\n",
    "%matplotlib inline\n",
    "\n",
    "\n",
    "ts = sed['ts']\n",
    "dnde = sed['dnde']\n",
    "flux_error = sed['e2dnde_err']\n",
    "e_min = sed['e_min']\n",
    "e_ref = sed['e_ref']\n",
    "e_max = sed['e_max']\n",
    "uplim = sed['e2dnde_ul95']\n",
    "\n",
    "flux = (e_ref**2)*dnde\n",
    "yval = []\n",
    "ts_int = []\n",
    "uplim_bool = []\n",
    "i = 0\n",
    "i_array = []\n",
    "\n",
    "\n",
    "while i < len(ts):\n",
    "    ts_int.append(int(ts[i]))\n",
    "    if ts_int[i] < 4:\n",
    "        yval.append(uplim[i])\n",
    "        uplim_bool.append(1)\n",
    "        \n",
    "    else:\n",
    "        yval.append(flux[i])\n",
    "        uplim_bool.append(0)\n",
    "        i_array.append(i)\n",
    "    i = i + 1\n",
    "\n",
    "uplims = np.array(uplim_bool, dtype=bool)\n",
    "\n",
    "low_xerr = []\n",
    "high_xerr = []\n",
    "j = 0\n",
    "\n",
    "flux_valid = []\n",
    "E_ctr_valid = []\n",
    "for m in i_array:\n",
    "    flux_valid.append(flux[m])\n",
    "    E_ctr_valid.append(e_ref[m])\n",
    "\n",
    "\n",
    "while j < len(e_ref):\n",
    "    a = e_ref[j] - e_min[j]\n",
    "    b = e_max[j] - e_ref[j]\n",
    "    low_xerr.append(a)\n",
    "    high_xerr.append(b)\n",
    "    j = j + 1\n",
    "\n",
    "xerr = [low_xerr, high_xerr]\n",
    "\n",
    "fig = plt.subplots(figsize=(14, 8))\n",
    "plt.errorbar(e_ref, uplim, xerr = xerr, yerr = flux_error\n",
    "             , uplims = uplims, linestyle = 'None',\n",
    "             color = 'black', marker = 'o')\n",
    "\n",
    "\n",
    "plt.title('NGC 1275 Spectral Energy Distribution')\n",
    "plt.xlabel('Energy [MeV]')\n",
    "plt.ylabel('Flux MeV cm^(-2) s^(-1)')\n",
    "plt.xscale('log')\n",
    "plt.yscale('log')\n",
    "plt.savefig('sed_NGC_1275.png', dpi = 400)"
   ]
  },
  {
   "cell_type": "markdown",
   "metadata": {},
   "source": [
    "Now we've plotted our SED, lets take a look (it may or may not have shown up in the output of the above box). \n",
    "\n",
    "![SED](img/sed_NGC_1275.png)\n",
    "\n",
    "That looks great! our code has plotted our SED, with error bars and energy bin widths, and plotted 95% confidence upper limits on bins where $ \\sigma < 4$. We could, of course plot these points too, but low significannce bins have large error bars, and we aren't certain enough in them to take them seriously in any fit. We haven't fitted a line to our data, although if we wanted to, we could use $\\chi ^2$ minimisation to fit a log parabola to it. \n",
    "\n",
    "You are more than welcome to plagarise this code for plotting, although it is actually pretty old and inelegant (I wrote it for an old analysis of the Crab Nebula). it works though, and thats what matters. \n",
    "\n",
    "Now we know that our SED has a log parabolic shape, and we can see the distributuion of flux with energy, what else can we do? \n",
    "\n",
    "So far we've been testing NGC 1275 as if it were a point source, however extension in Fermi sources does exist (although it is uncommon). Two radio galaxies are known to have extension: Centaurus A (our cloesest AGN neighbour) and Fornax A. Luckily Fermipy has a lovely routine called 'extension' to test whether a source is a point source, or is extended. Lets run it now and see what happens."
   ]
  },
  {
   "cell_type": "code",
   "execution_count": 28,
   "metadata": {},
   "outputs": [
    {
     "name": "stderr",
     "output_type": "stream",
     "text": [
      "2021-12-03 08:03:37 INFO    GTAnalysis.extension(): Running extension fit for 4FGL J0319.8+4130\n",
      "2021-12-03 08:04:00 INFO    GTAnalysis._extension(): Fitting extended-source model.\n",
      "2021-12-03 08:04:11 INFO    GTAnalysis._extension(): Generating TS map.\n",
      "2021-12-03 08:04:18 INFO    GTAnalysis._extension(): Testing point-source model.\n",
      "2021-12-03 08:04:26 INFO    GTAnalysis._extension(): Best-fit extension: 0.0164 + 0.0278 -    nan\n",
      "2021-12-03 08:04:26 INFO    GTAnalysis._extension(): TS_ext:        0.024\n",
      "2021-12-03 08:04:26 INFO    GTAnalysis._extension(): Extension UL: 0.0548\n",
      "2021-12-03 08:04:26 INFO    GTAnalysis._extension(): LogLike:  -184384.694 DeltaLogLike:        4.440\n",
      "2021-12-03 08:04:26 INFO    GTAnalysis.extension(): Finished extension fit.\n"
     ]
    },
    {
     "name": "stdout",
     "output_type": "stream",
     "text": [
      "{'spatial_model': 'RadialGaussian', 'width': [], 'fit_position': False, 'width_min': 0.01, 'width_max': 1.0, 'width_nstep': 21, 'free_background': False, 'fix_shape': False, 'free_radius': None, 'fit_ebin': False, 'update': False, 'save_model_map': False, 'sqrt_ts_threshold': None, 'psf_scale_fn': None, 'make_tsmap': True, 'tsmap_fitter': 'tsmap', 'make_plots': False, 'write_fits': True, 'write_npy': True, 'optimizer': {'optimizer': 'MINUIT', 'tol': 0.001, 'max_iter': 100, 'init_lambda': 0.0001, 'retries': 3, 'min_fit_quality': 2, 'verbosity': 0}, 'prefix': '', 'outfile': None}\n",
      "{'spatial_model': 'RadialGaussian', 'width': [], 'fit_position': False, 'width_min': 0.01, 'width_max': 1.0, 'width_nstep': 21, 'free_background': False, 'fix_shape': False, 'free_radius': None, 'fit_ebin': False, 'update': False, 'save_model_map': False, 'sqrt_ts_threshold': None, 'psf_scale_fn': None, 'make_tsmap': True, 'tsmap_fitter': 'tsmap', 'make_plots': False, 'write_fits': True, 'write_npy': True, 'optimizer': {'optimizer': 'MINUIT', 'tol': 0.001, 'max_iter': 100, 'init_lambda': 0.0001, 'retries': 3, 'min_fit_quality': 2, 'verbosity': 0}, 'prefix': '', 'outfile': None}\n"
     ]
    },
    {
     "name": "stderr",
     "output_type": "stream",
     "text": [
      "2021-12-03 08:04:32 WARNING GTAnalysis.extension(): Saving maps in .npy files is disabled b/c of incompatibilities in python3, remove the maps from the /workdir/4fgl_j0319.8+4130_ext.npy\n",
      "2021-12-03 08:04:32 INFO    GTAnalysis.extension(): Execution time: 55.03 s\n"
     ]
    },
    {
     "name": "stdout",
     "output_type": "stream",
     "text": [
      "{'name': '4FGL J0319.8+4130', 'file': None, 'config': {'spatial_model': 'RadialGaussian', 'width': [], 'fit_position': False, 'width_min': 0.01, 'width_max': 1.0, 'width_nstep': 21, 'free_background': False, 'fix_shape': False, 'free_radius': None, 'fit_ebin': False, 'update': False, 'save_model_map': False, 'sqrt_ts_threshold': None, 'psf_scale_fn': None, 'make_tsmap': True, 'tsmap_fitter': 'tsmap', 'make_plots': False, 'write_fits': True, 'write_npy': True, 'optimizer': {'optimizer': 'MINUIT', 'tol': 0.001, 'max_iter': 100, 'init_lambda': 0.0001, 'retries': 3, 'min_fit_quality': 2, 'verbosity': 0}, 'prefix': '', 'outfile': None}, 'width': array([0.        , 0.01      , 0.01258925, 0.01584893, 0.01995262,\n",
      "       0.02511886, 0.03162278, 0.03981072, 0.05011872, 0.06309573,\n",
      "       0.07943282, 0.1       , 0.12589254, 0.15848932, 0.19952623,\n",
      "       0.25118864, 0.31622777, 0.39810717, 0.50118723, 0.63095734,\n",
      "       0.79432823, 1.        ]), 'dloglike': array([ 8.80099629e-04,  7.36540055e-03,  1.01685549e-02,  1.21986523e-02,\n",
      "        9.17361554e-03, -1.14578400e-02, -8.45347738e-02, -3.03251383e-01,\n",
      "       -9.00721188e-01, -2.40596191e+00, -5.84308098e+00, -1.28841808e+01,\n",
      "       -2.54533097e+01, -4.63152310e+01, -8.01724606e+01, -1.30254898e+02,\n",
      "       -1.99306842e+02, -3.00125273e+02, -4.38914475e+02, -6.24277585e+02,\n",
      "       -8.61729670e+02, -1.15022403e+03]), 'loglike': array([-184384.70521854, -184384.69873324, -184384.69593008,\n",
      "       -184384.69389999, -184384.69692502, -184384.71755648,\n",
      "       -184384.79063341, -184385.00935002, -184385.60681983,\n",
      "       -184387.11206055, -184390.54917962, -184397.59027946,\n",
      "       -184410.15940833, -184431.0213296 , -184464.87855926,\n",
      "       -184514.96099696, -184584.01294101, -184684.83137206,\n",
      "       -184823.62057398, -185008.98368352, -185246.43576837,\n",
      "       -185534.93013333]), 'loglike_ptsrc': -184384.70609863993, 'loglike_ext': -184384.69386168, 'loglike_init': -184389.1334783191, 'loglike_base': -184384.62808258674, 'ext': 0.016433477606000564, 'ext_err_hi': 0.027788846852511616, 'ext_err_lo': nan, 'ext_err': 0.027788846852511616, 'ext_ul95': 0.054835240749382314, 'ts_ext': 0.024473919882439077, 'ebin_e_min': array([1.00000000e+02, 1.33100596e+02, 1.77161766e+02, 2.35803366e+02,\n",
      "       3.13855685e+02, 4.17743788e+02, 5.56032274e+02, 7.40082270e+02,\n",
      "       9.85053912e+02, 1.31114282e+03, 1.74513890e+03, 2.32279028e+03,\n",
      "       3.09164771e+03, 4.11509627e+03, 5.47721766e+03, 7.29020935e+03,\n",
      "       9.70353552e+03, 1.29154636e+04, 1.71905590e+04, 2.28812634e+04,\n",
      "       3.04550979e+04, 4.05359168e+04, 5.39535468e+04, 7.18141460e+04,\n",
      "       9.55850562e+04, 1.27224279e+05, 1.69340173e+05, 2.25392780e+05]), 'ebin_e_ctr': array([1.15369232e+02, 1.53558903e+02, 2.04390168e+02, 2.72044531e+02,\n",
      "       3.62092892e+02, 4.81953346e+02, 6.41490161e+02, 8.53827228e+02,\n",
      "       1.13646221e+03, 1.51265539e+03, 2.01335334e+03, 2.67978530e+03,\n",
      "       3.56685127e+03, 4.74755495e+03, 6.31902393e+03, 8.41075534e+03,\n",
      "       1.11948944e+04, 1.49004711e+04, 1.98328442e+04, 2.63979377e+04,\n",
      "       3.51358124e+04, 4.67659757e+04, 6.22465090e+04, 8.28514283e+04,\n",
      "       1.10275745e+05, 1.46779363e+05, 1.95366457e+05, 2.60033918e+05]), 'ebin_e_max': array([1.33100596e+02, 1.77161766e+02, 2.35803366e+02, 3.13855685e+02,\n",
      "       4.17743788e+02, 5.56032274e+02, 7.40082270e+02, 9.85053912e+02,\n",
      "       1.31114282e+03, 1.74513890e+03, 2.32279028e+03, 3.09164771e+03,\n",
      "       4.11509627e+03, 5.47721766e+03, 7.29020935e+03, 9.70353552e+03,\n",
      "       1.29154636e+04, 1.71905590e+04, 2.28812634e+04, 3.04550979e+04,\n",
      "       4.05359168e+04, 5.39535468e+04, 7.18141460e+04, 9.55850562e+04,\n",
      "       1.27224279e+05, 1.69340173e+05, 2.25392780e+05, 2.99999133e+05]), 'ebin_ext': array([nan, nan, nan, nan, nan, nan, nan, nan, nan, nan, nan, nan, nan,\n",
      "       nan, nan, nan, nan, nan, nan, nan, nan, nan, nan, nan, nan, nan,\n",
      "       nan, nan]), 'ebin_ext_err': array([nan, nan, nan, nan, nan, nan, nan, nan, nan, nan, nan, nan, nan,\n",
      "       nan, nan, nan, nan, nan, nan, nan, nan, nan, nan, nan, nan, nan,\n",
      "       nan, nan]), 'ebin_ext_err_hi': array([nan, nan, nan, nan, nan, nan, nan, nan, nan, nan, nan, nan, nan,\n",
      "       nan, nan, nan, nan, nan, nan, nan, nan, nan, nan, nan, nan, nan,\n",
      "       nan, nan]), 'ebin_ext_err_lo': array([nan, nan, nan, nan, nan, nan, nan, nan, nan, nan, nan, nan, nan,\n",
      "       nan, nan, nan, nan, nan, nan, nan, nan, nan, nan, nan, nan, nan,\n",
      "       nan, nan]), 'ebin_ext_ul95': array([nan, nan, nan, nan, nan, nan, nan, nan, nan, nan, nan, nan, nan,\n",
      "       nan, nan, nan, nan, nan, nan, nan, nan, nan, nan, nan, nan, nan,\n",
      "       nan, nan]), 'ebin_ts_ext': array([nan, nan, nan, nan, nan, nan, nan, nan, nan, nan, nan, nan, nan,\n",
      "       nan, nan, nan, nan, nan, nan, nan, nan, nan, nan, nan, nan, nan,\n",
      "       nan, nan]), 'ebin_dloglike': array([[nan, nan, nan, nan, nan, nan, nan, nan, nan, nan, nan, nan, nan,\n",
      "        nan, nan, nan, nan, nan, nan, nan, nan, nan],\n",
      "       [nan, nan, nan, nan, nan, nan, nan, nan, nan, nan, nan, nan, nan,\n",
      "        nan, nan, nan, nan, nan, nan, nan, nan, nan],\n",
      "       [nan, nan, nan, nan, nan, nan, nan, nan, nan, nan, nan, nan, nan,\n",
      "        nan, nan, nan, nan, nan, nan, nan, nan, nan],\n",
      "       [nan, nan, nan, nan, nan, nan, nan, nan, nan, nan, nan, nan, nan,\n",
      "        nan, nan, nan, nan, nan, nan, nan, nan, nan],\n",
      "       [nan, nan, nan, nan, nan, nan, nan, nan, nan, nan, nan, nan, nan,\n",
      "        nan, nan, nan, nan, nan, nan, nan, nan, nan],\n",
      "       [nan, nan, nan, nan, nan, nan, nan, nan, nan, nan, nan, nan, nan,\n",
      "        nan, nan, nan, nan, nan, nan, nan, nan, nan],\n",
      "       [nan, nan, nan, nan, nan, nan, nan, nan, nan, nan, nan, nan, nan,\n",
      "        nan, nan, nan, nan, nan, nan, nan, nan, nan],\n",
      "       [nan, nan, nan, nan, nan, nan, nan, nan, nan, nan, nan, nan, nan,\n",
      "        nan, nan, nan, nan, nan, nan, nan, nan, nan],\n",
      "       [nan, nan, nan, nan, nan, nan, nan, nan, nan, nan, nan, nan, nan,\n",
      "        nan, nan, nan, nan, nan, nan, nan, nan, nan],\n",
      "       [nan, nan, nan, nan, nan, nan, nan, nan, nan, nan, nan, nan, nan,\n",
      "        nan, nan, nan, nan, nan, nan, nan, nan, nan],\n",
      "       [nan, nan, nan, nan, nan, nan, nan, nan, nan, nan, nan, nan, nan,\n",
      "        nan, nan, nan, nan, nan, nan, nan, nan, nan],\n",
      "       [nan, nan, nan, nan, nan, nan, nan, nan, nan, nan, nan, nan, nan,\n",
      "        nan, nan, nan, nan, nan, nan, nan, nan, nan],\n",
      "       [nan, nan, nan, nan, nan, nan, nan, nan, nan, nan, nan, nan, nan,\n",
      "        nan, nan, nan, nan, nan, nan, nan, nan, nan],\n",
      "       [nan, nan, nan, nan, nan, nan, nan, nan, nan, nan, nan, nan, nan,\n",
      "        nan, nan, nan, nan, nan, nan, nan, nan, nan],\n",
      "       [nan, nan, nan, nan, nan, nan, nan, nan, nan, nan, nan, nan, nan,\n",
      "        nan, nan, nan, nan, nan, nan, nan, nan, nan],\n",
      "       [nan, nan, nan, nan, nan, nan, nan, nan, nan, nan, nan, nan, nan,\n",
      "        nan, nan, nan, nan, nan, nan, nan, nan, nan],\n",
      "       [nan, nan, nan, nan, nan, nan, nan, nan, nan, nan, nan, nan, nan,\n",
      "        nan, nan, nan, nan, nan, nan, nan, nan, nan],\n",
      "       [nan, nan, nan, nan, nan, nan, nan, nan, nan, nan, nan, nan, nan,\n",
      "        nan, nan, nan, nan, nan, nan, nan, nan, nan],\n",
      "       [nan, nan, nan, nan, nan, nan, nan, nan, nan, nan, nan, nan, nan,\n",
      "        nan, nan, nan, nan, nan, nan, nan, nan, nan],\n",
      "       [nan, nan, nan, nan, nan, nan, nan, nan, nan, nan, nan, nan, nan,\n",
      "        nan, nan, nan, nan, nan, nan, nan, nan, nan],\n",
      "       [nan, nan, nan, nan, nan, nan, nan, nan, nan, nan, nan, nan, nan,\n",
      "        nan, nan, nan, nan, nan, nan, nan, nan, nan],\n",
      "       [nan, nan, nan, nan, nan, nan, nan, nan, nan, nan, nan, nan, nan,\n",
      "        nan, nan, nan, nan, nan, nan, nan, nan, nan],\n",
      "       [nan, nan, nan, nan, nan, nan, nan, nan, nan, nan, nan, nan, nan,\n",
      "        nan, nan, nan, nan, nan, nan, nan, nan, nan],\n",
      "       [nan, nan, nan, nan, nan, nan, nan, nan, nan, nan, nan, nan, nan,\n",
      "        nan, nan, nan, nan, nan, nan, nan, nan, nan],\n",
      "       [nan, nan, nan, nan, nan, nan, nan, nan, nan, nan, nan, nan, nan,\n",
      "        nan, nan, nan, nan, nan, nan, nan, nan, nan],\n",
      "       [nan, nan, nan, nan, nan, nan, nan, nan, nan, nan, nan, nan, nan,\n",
      "        nan, nan, nan, nan, nan, nan, nan, nan, nan],\n",
      "       [nan, nan, nan, nan, nan, nan, nan, nan, nan, nan, nan, nan, nan,\n",
      "        nan, nan, nan, nan, nan, nan, nan, nan, nan],\n",
      "       [nan, nan, nan, nan, nan, nan, nan, nan, nan, nan, nan, nan, nan,\n",
      "        nan, nan, nan, nan, nan, nan, nan, nan, nan]]), 'ebin_loglike': array([[nan, nan, nan, nan, nan, nan, nan, nan, nan, nan, nan, nan, nan,\n",
      "        nan, nan, nan, nan, nan, nan, nan, nan, nan],\n",
      "       [nan, nan, nan, nan, nan, nan, nan, nan, nan, nan, nan, nan, nan,\n",
      "        nan, nan, nan, nan, nan, nan, nan, nan, nan],\n",
      "       [nan, nan, nan, nan, nan, nan, nan, nan, nan, nan, nan, nan, nan,\n",
      "        nan, nan, nan, nan, nan, nan, nan, nan, nan],\n",
      "       [nan, nan, nan, nan, nan, nan, nan, nan, nan, nan, nan, nan, nan,\n",
      "        nan, nan, nan, nan, nan, nan, nan, nan, nan],\n",
      "       [nan, nan, nan, nan, nan, nan, nan, nan, nan, nan, nan, nan, nan,\n",
      "        nan, nan, nan, nan, nan, nan, nan, nan, nan],\n",
      "       [nan, nan, nan, nan, nan, nan, nan, nan, nan, nan, nan, nan, nan,\n",
      "        nan, nan, nan, nan, nan, nan, nan, nan, nan],\n",
      "       [nan, nan, nan, nan, nan, nan, nan, nan, nan, nan, nan, nan, nan,\n",
      "        nan, nan, nan, nan, nan, nan, nan, nan, nan],\n",
      "       [nan, nan, nan, nan, nan, nan, nan, nan, nan, nan, nan, nan, nan,\n",
      "        nan, nan, nan, nan, nan, nan, nan, nan, nan],\n",
      "       [nan, nan, nan, nan, nan, nan, nan, nan, nan, nan, nan, nan, nan,\n",
      "        nan, nan, nan, nan, nan, nan, nan, nan, nan],\n",
      "       [nan, nan, nan, nan, nan, nan, nan, nan, nan, nan, nan, nan, nan,\n",
      "        nan, nan, nan, nan, nan, nan, nan, nan, nan],\n",
      "       [nan, nan, nan, nan, nan, nan, nan, nan, nan, nan, nan, nan, nan,\n",
      "        nan, nan, nan, nan, nan, nan, nan, nan, nan],\n",
      "       [nan, nan, nan, nan, nan, nan, nan, nan, nan, nan, nan, nan, nan,\n",
      "        nan, nan, nan, nan, nan, nan, nan, nan, nan],\n",
      "       [nan, nan, nan, nan, nan, nan, nan, nan, nan, nan, nan, nan, nan,\n",
      "        nan, nan, nan, nan, nan, nan, nan, nan, nan],\n",
      "       [nan, nan, nan, nan, nan, nan, nan, nan, nan, nan, nan, nan, nan,\n",
      "        nan, nan, nan, nan, nan, nan, nan, nan, nan],\n",
      "       [nan, nan, nan, nan, nan, nan, nan, nan, nan, nan, nan, nan, nan,\n",
      "        nan, nan, nan, nan, nan, nan, nan, nan, nan],\n",
      "       [nan, nan, nan, nan, nan, nan, nan, nan, nan, nan, nan, nan, nan,\n",
      "        nan, nan, nan, nan, nan, nan, nan, nan, nan],\n",
      "       [nan, nan, nan, nan, nan, nan, nan, nan, nan, nan, nan, nan, nan,\n",
      "        nan, nan, nan, nan, nan, nan, nan, nan, nan],\n",
      "       [nan, nan, nan, nan, nan, nan, nan, nan, nan, nan, nan, nan, nan,\n",
      "        nan, nan, nan, nan, nan, nan, nan, nan, nan],\n",
      "       [nan, nan, nan, nan, nan, nan, nan, nan, nan, nan, nan, nan, nan,\n",
      "        nan, nan, nan, nan, nan, nan, nan, nan, nan],\n",
      "       [nan, nan, nan, nan, nan, nan, nan, nan, nan, nan, nan, nan, nan,\n",
      "        nan, nan, nan, nan, nan, nan, nan, nan, nan],\n",
      "       [nan, nan, nan, nan, nan, nan, nan, nan, nan, nan, nan, nan, nan,\n",
      "        nan, nan, nan, nan, nan, nan, nan, nan, nan],\n",
      "       [nan, nan, nan, nan, nan, nan, nan, nan, nan, nan, nan, nan, nan,\n",
      "        nan, nan, nan, nan, nan, nan, nan, nan, nan],\n",
      "       [nan, nan, nan, nan, nan, nan, nan, nan, nan, nan, nan, nan, nan,\n",
      "        nan, nan, nan, nan, nan, nan, nan, nan, nan],\n",
      "       [nan, nan, nan, nan, nan, nan, nan, nan, nan, nan, nan, nan, nan,\n",
      "        nan, nan, nan, nan, nan, nan, nan, nan, nan],\n",
      "       [nan, nan, nan, nan, nan, nan, nan, nan, nan, nan, nan, nan, nan,\n",
      "        nan, nan, nan, nan, nan, nan, nan, nan, nan],\n",
      "       [nan, nan, nan, nan, nan, nan, nan, nan, nan, nan, nan, nan, nan,\n",
      "        nan, nan, nan, nan, nan, nan, nan, nan, nan],\n",
      "       [nan, nan, nan, nan, nan, nan, nan, nan, nan, nan, nan, nan, nan,\n",
      "        nan, nan, nan, nan, nan, nan, nan, nan, nan],\n",
      "       [nan, nan, nan, nan, nan, nan, nan, nan, nan, nan, nan, nan, nan,\n",
      "        nan, nan, nan, nan, nan, nan, nan, nan, nan]]), 'ebin_loglike_ptsrc': array([nan, nan, nan, nan, nan, nan, nan, nan, nan, nan, nan, nan, nan,\n",
      "       nan, nan, nan, nan, nan, nan, nan, nan, nan, nan, nan, nan, nan,\n",
      "       nan, nan]), 'ebin_loglike_ext': array([nan, nan, nan, nan, nan, nan, nan, nan, nan, nan, nan, nan, nan,\n",
      "       nan, nan, nan, nan, nan, nan, nan, nan, nan, nan, nan, nan, nan,\n",
      "       nan, nan]), 'ra': 49.95750045776367, 'dec': 41.51210021972656, 'glon': 150.5799747941058, 'glat': -13.25805656016053, 'ra_err': nan, 'dec_err': nan, 'glon_err': nan, 'glat_err': nan, 'pos_offset': 0.0, 'pos_err': nan, 'pos_r68': nan, 'pos_r95': nan, 'pos_r99': nan, 'pos_err_semimajor': nan, 'pos_err_semiminor': nan, 'pos_angle': nan, 'tsmap': WcsNDMap\n",
      "\n",
      "\tgeom  : WcsGeom \n",
      " \taxes  : ['lon', 'lat']\n",
      "\tshape : (10, 10)\n",
      "\tndim  : 2\n",
      "\tunit  : \n",
      "\tdtype : float64\n",
      ", 'ptsrc_tot_map': None, 'ptsrc_src_map': None, 'ptsrc_bkg_map': None, 'ext_tot_map': None, 'ext_src_map': None, 'ext_bkg_map': None, 'source_fit': {'param_names': array([b'norm', b'alpha', b'beta', b'Eb', b'', b'', b'', b'', b'', b''],\n",
      "      dtype='|S32'), 'param_values': array([3.19492490e-11, 1.97919726e+00, 4.47781698e-02, 9.52577759e+02,\n",
      "                  nan,            nan,            nan,            nan,\n",
      "                  nan,            nan]), 'param_errors': array([7.86199900e-13, 1.66295929e-02, 9.33801928e-03,            nan,\n",
      "                  nan,            nan,            nan,            nan,\n",
      "                  nan,            nan]), 'ts': 9166.834551436477, 'loglike': -184384.69386168, 'loglike_scan': array([-188968.1111374 , -184387.41913994, -184386.7750053 ,\n",
      "       -184386.21893838, -184385.75024739, -184385.36824988,\n",
      "       -184385.07227251, -184384.86165096, -184384.73572965,\n",
      "       -184384.69386168, -184384.72142015, -184384.80395827,\n",
      "       -184384.94113893, -184385.13262854, -184385.37809701,\n",
      "       -184385.67721771, -184386.02966739, -184386.43512614,\n",
      "       -184386.89327735, -184387.40380765]), 'dloglike_scan': array([-4.58341728e+03, -2.72527826e+00, -2.08114362e+00, -1.52507670e+00,\n",
      "       -1.05638571e+00, -6.74388196e-01, -3.78410834e-01, -1.67789275e-01,\n",
      "       -4.18679691e-02,  0.00000000e+00, -2.75584669e-02, -1.10096594e-01,\n",
      "       -2.47277253e-01, -4.38766861e-01, -6.84235335e-01, -9.83356033e-01,\n",
      "       -1.33580571e+00, -1.74126446e+00, -2.19941567e+00, -2.70994597e+00]), 'eflux_scan': array([0.        , 0.00016811, 0.00016908, 0.00017004, 0.000171  ,\n",
      "       0.00017196, 0.00017293, 0.00017389, 0.00017485, 0.00017582,\n",
      "       0.0001766 , 0.00017738, 0.00017817, 0.00017895, 0.00017974,\n",
      "       0.00018052, 0.00018131, 0.00018209, 0.00018287, 0.00018366]), 'flux_scan': array([0.00000000e+00, 2.41858590e-07, 2.43243968e-07, 2.44629345e-07,\n",
      "       2.46014722e-07, 2.47400099e-07, 2.48785476e-07, 2.50170853e-07,\n",
      "       2.51556230e-07, 2.52941607e-07, 2.54069816e-07, 2.55198025e-07,\n",
      "       2.56326233e-07, 2.57454442e-07, 2.58582651e-07, 2.59710859e-07,\n",
      "       2.60839068e-07, 2.61967277e-07, 2.63095485e-07, 2.64223694e-07]), 'norm_scan': array([0.        , 0.30549345, 0.30724333, 0.30899321, 0.31074309,\n",
      "       0.31249297, 0.31424285, 0.31599273, 0.31774261, 0.31949249,\n",
      "       0.32091754, 0.32234259, 0.32376764, 0.32519269, 0.32661774,\n",
      "       0.32804278, 0.32946783, 0.33089288, 0.33231793, 0.33374298]), 'npred': 6201.921498823425, 'npred_wt': 6201.921498823425, 'pivot_energy': 447.3532658881998, 'flux': 2.529416071839694e-07, 'flux100': 2.529440948840896e-07, 'flux1000': 2.730145456199115e-08, 'flux10000': 1.875531248011618e-09, 'flux_err': 6.7635899040952945e-09, 'flux100_err': 6.763692449306965e-09, 'flux1000_err': 7.576410748068438e-10, 'flux10000_err': 1.6594751492093704e-10, 'flux_ul95': 2.608808026057681e-07, 'flux100_ul95': 2.608833683884846e-07, 'flux1000_ul95': 2.8158377966092706e-08, 'flux10000_ul95': 1.934399416295313e-09, 'eflux': 0.0001758165498443099, 'eflux100': 0.00017620266614706818, 'eflux1000': 0.00011543575429847007, 'eflux10000': 5.241325341699951e-05, 'eflux_err': 7.864668464722306e-06, 'eflux100_err': 7.966429372283076e-06, 'eflux1000_err': 7.848678953708976e-06, 'eflux10000_err': 6.859797031055958e-06, 'eflux_ul95': 0.00018133498535652338, 'eflux100_ul95': 0.00018173322087057815, 'eflux1000_ul95': 0.00011905898980425113, 'eflux10000_ul95': 5.40583724869798e-05, 'dnde': 1.3900243157482582e-10, 'dnde100': 2.2034197265777086e-09, 'dnde1000': 2.901713670317336e-11, 'dnde10000': 2.3768445866531544e-13, 'dnde_err': 2.9874178319764835e-12, 'dnde100_err': 1.2113753382172458e-10, 'dnde1000_err': 7.215825244144526e-13, 'dnde10000_err': 1.3025428987931156e-14, 'dnde_index': 1.9835482237767048, 'dnde100_index': 1.777337131194568, 'dnde1000_index': 1.9835482237767048, 'dnde10000_index': 2.1897593163622577, 'name': '4FGL J0319.8+4130', 'spectral_pars': {'norm': {'name': 'norm', 'value': 0.31949249020730963, 'error': 0.007861998998469918, 'min': 1e-05, 'max': 1000.0, 'free': True, 'scale': 1e-10}, 'alpha': {'name': 'alpha', 'value': 1.979197259865141, 'error': 0.016629592880144435, 'min': -5.0, 'max': 5.0, 'free': True, 'scale': 1.0}, 'beta': {'name': 'beta', 'value': 0.04477816980491811, 'error': 0.009338019275605661, 'min': -2.0, 'max': 2.0, 'free': True, 'scale': 1.0}, 'Eb': {'name': 'Eb', 'value': 952.5777587890625, 'error': nan, 'min': 952.5777587890625, 'max': 952.5777587890625, 'free': False, 'scale': 1.0}}, 'model_counts': array([7.91737190e+02, 8.21208590e+02, 7.83366016e+02, 7.05444582e+02,\n",
      "       6.17202561e+02, 5.29156695e+02, 4.41711351e+02, 3.61214883e+02,\n",
      "       2.89133588e+02, 2.25733511e+02, 1.72250607e+02, 1.28896074e+02,\n",
      "       9.48345500e+01, 6.89045111e+01, 5.00431909e+01, 3.63223710e+01,\n",
      "       2.58934735e+01, 1.82852741e+01, 1.28274388e+01, 9.00046203e+00,\n",
      "       6.30338456e+00, 4.35164809e+00, 2.95498212e+00, 1.98723463e+00,\n",
      "       1.32743431e+00, 8.78618259e-01, 5.77509753e-01, 3.73768067e-01]), 'model_counts_wt': array([7.91737190e+02, 8.21208590e+02, 7.83366016e+02, 7.05444582e+02,\n",
      "       6.17202561e+02, 5.29156695e+02, 4.41711351e+02, 3.61214883e+02,\n",
      "       2.89133588e+02, 2.25733511e+02, 1.72250607e+02, 1.28896074e+02,\n",
      "       9.48345500e+01, 6.89045111e+01, 5.00431909e+01, 3.63223710e+01,\n",
      "       2.58934735e+01, 1.82852741e+01, 1.28274388e+01, 9.00046203e+00,\n",
      "       6.30338456e+00, 4.35164809e+00, 2.95498212e+00, 1.98723463e+00,\n",
      "       1.32743431e+00, 8.78618259e-01, 5.77509753e-01, 3.73768067e-01]), 'covar': array([[ 6.18110283e-05, -4.22855483e-05,  4.45104984e-05],\n",
      "       [-4.22855483e-05,  2.76543359e-04, -3.37705459e-05],\n",
      "       [ 4.45104984e-05, -3.37705459e-05,  8.71986040e-05]]), 'model_flux': {'energies': array([1.00000000e+02, 1.17750194e+02, 1.38651083e+02, 1.63261919e+02,\n",
      "       1.92241227e+02, 2.26364419e+02, 2.66544543e+02, 3.13856718e+02,\n",
      "       3.69566895e+02, 4.35165737e+02, 5.12408501e+02, 6.03362006e+02,\n",
      "       7.10459935e+02, 8.36567954e+02, 9.85060392e+02, 1.15991053e+03,\n",
      "       1.36579690e+03, 1.60822850e+03, 1.89369219e+03, 2.22982623e+03,\n",
      "       2.62562472e+03, 3.09167821e+03, 3.64045711e+03, 4.28664532e+03,\n",
      "       5.04753319e+03, 5.94348015e+03, 6.99845942e+03, 8.24069957e+03,\n",
      "       9.70343977e+03, 1.14258192e+04, 1.34539243e+04, 1.58420220e+04,\n",
      "       1.86540117e+04, 2.19651350e+04, 2.58639892e+04, 3.04548975e+04,\n",
      "       3.58607011e+04, 4.22260452e+04, 4.97212503e+04, 5.85468688e+04,\n",
      "       6.89390519e+04, 8.11758676e+04, 9.55847418e+04, 1.12551219e+05,\n",
      "       1.32529279e+05, 1.56053484e+05, 1.83753281e+05, 2.16369845e+05,\n",
      "       2.54775913e+05, 2.99999133e+05]), 'log_energies': array([2.        , 2.07096163, 2.14192327, 2.2128849 , 2.28384653,\n",
      "       2.35480816, 2.4257698 , 2.49673143, 2.56769306, 2.63865469,\n",
      "       2.70961633, 2.78057796, 2.85153959, 2.92250122, 2.99346286,\n",
      "       3.06442449, 3.13538612, 3.20634776, 3.27730939, 3.34827102,\n",
      "       3.41923265, 3.49019429, 3.56115592, 3.63211755, 3.70307918,\n",
      "       3.77404082, 3.84500245, 3.91596408, 3.98692571, 4.05788735,\n",
      "       4.12884898, 4.19981061, 4.27077224, 4.34173388, 4.41269551,\n",
      "       4.48365714, 4.55461878, 4.62558041, 4.69654204, 4.76750367,\n",
      "       4.83846531, 4.90942694, 4.98038857, 5.0513502 , 5.12231184,\n",
      "       5.19327347, 5.2642351 , 5.33519673, 5.40615837, 5.47712   ]), 'dnde': array([2.20341973e-09, 1.64609651e-09, 1.22680340e-09, 9.12128988e-10,\n",
      "       6.76548849e-10, 5.00614787e-10, 3.69547102e-10, 2.72143234e-10,\n",
      "       1.99934110e-10, 1.46533816e-10, 1.07139703e-10, 7.81492172e-11,\n",
      "       5.68670157e-11, 4.12817269e-11, 2.98962618e-11, 2.15991934e-11,\n",
      "       1.55675328e-11, 1.11934422e-11, 8.02914211e-12, 5.74561129e-12,\n",
      "       4.10171000e-12, 2.92115952e-12, 2.07542579e-12, 1.47102739e-12,\n",
      "       1.04014988e-12, 7.33723952e-13, 5.16334429e-13, 3.62485873e-13,\n",
      "       2.53870770e-13, 1.77376437e-13, 1.23634811e-13, 8.59700583e-14,\n",
      "       5.96369312e-14, 4.12709977e-14, 2.84928742e-14, 1.96240737e-14,\n",
      "       1.34835324e-14, 9.24229478e-15, 6.32000702e-15, 4.31138611e-15,\n",
      "       2.93412012e-15, 1.99205109e-15, 1.34922590e-15, 9.11654921e-16,\n",
      "       6.14522662e-16, 4.13244364e-16, 2.77228317e-16, 1.85536710e-16,\n",
      "       1.23875017e-16, 8.25085994e-17]), 'dnde_lo': array([2.08859492e-09, 1.57036227e-09, 1.17722035e-09, 8.79840708e-10,\n",
      "       6.55555849e-10, 4.86902448e-10, 3.60470645e-10, 2.65996476e-10,\n",
      "       1.95645708e-10, 1.43449787e-10, 1.04867206e-10, 7.64492699e-11,\n",
      "       5.55872006e-11, 4.03180459e-11, 2.91731365e-11, 2.10593168e-11,\n",
      "       1.51665614e-11, 1.08969222e-11, 7.81045441e-12, 5.58441238e-12,\n",
      "       3.98266031e-12, 2.83285851e-12, 2.00951975e-12, 1.42147103e-12,\n",
      "       1.00260732e-12, 7.05095987e-13, 4.94398008e-13, 3.45629745e-13,\n",
      "       2.40908788e-13, 1.67419801e-13, 1.16006335e-13, 8.01468775e-14,\n",
      "       5.52117156e-14, 3.79249701e-14, 2.59763380e-14, 1.77418193e-14,\n",
      "       1.20835444e-14, 8.20681204e-15, 5.55835372e-15, 3.75419370e-15,\n",
      "       2.52867447e-15, 1.69856280e-15, 1.13786092e-15, 7.60189542e-16,\n",
      "       5.06507401e-16, 3.36578822e-16, 2.23064569e-16, 1.47442538e-16,\n",
      "       9.72005775e-17, 6.39107675e-17]), 'dnde_hi': array([2.32455726e-09, 1.72548322e-09, 1.27847482e-09, 9.45602179e-10,\n",
      "       6.98214111e-10, 5.14713298e-10, 3.78852098e-10, 2.78432033e-10,\n",
      "       2.04316511e-10, 1.49684149e-10, 1.09461446e-10, 7.98869650e-11,\n",
      "       5.81762967e-11, 4.22684417e-11, 3.06373114e-11, 2.21529101e-11,\n",
      "       1.59791050e-11, 1.14980309e-11, 8.25395292e-12, 5.91146335e-12,\n",
      "       4.22431832e-12, 3.01221290e-12, 2.14349335e-12, 1.52231142e-12,\n",
      "       1.07909820e-12, 7.63514255e-13, 5.39244168e-13, 3.80164063e-13,\n",
      "       2.67530165e-13, 1.87925206e-13, 1.31764928e-13, 9.22163302e-14,\n",
      "       6.44168277e-14, 4.49122371e-14, 3.12532074e-14, 2.17060190e-14,\n",
      "       1.50457217e-14, 1.04084281e-14, 7.18602859e-15, 4.95127628e-15,\n",
      "       3.40457460e-15, 2.33625013e-15, 1.59985329e-15, 1.09329930e-15,\n",
      "       7.45572724e-16, 5.07372697e-16, 3.44543915e-16, 2.33473128e-16,\n",
      "       1.57869636e-16, 1.06518342e-16]), 'dnde_err': array([1.21137534e-10, 7.93867028e-11, 5.16714222e-11, 3.34731913e-11,\n",
      "       2.16652628e-11, 1.40985110e-11, 9.30499673e-12, 6.28879980e-12,\n",
      "       4.38240072e-12, 3.15033316e-12, 2.32174261e-12, 1.73774783e-12,\n",
      "       1.30928102e-12, 9.86714841e-13, 7.41049647e-13, 5.53716783e-13,\n",
      "       4.11572195e-13, 3.04588695e-13, 2.24810816e-13, 1.65852062e-13,\n",
      "       1.22608322e-13, 9.10533770e-14, 6.80675591e-14, 5.12840335e-14,\n",
      "       3.89483298e-14, 2.97903029e-14, 2.29097388e-14, 1.76781896e-14,\n",
      "       1.36593955e-14, 1.05487687e-14, 8.13011778e-15, 6.24627194e-15,\n",
      "       4.77989642e-15, 3.64123942e-15, 2.76033322e-15, 2.08194534e-15,\n",
      "       1.56218929e-15, 1.16613328e-15, 8.66021568e-16, 6.39890167e-16,\n",
      "       4.70454482e-16, 3.44199037e-16, 2.50627388e-16, 1.81644379e-16,\n",
      "       1.31050061e-16, 9.41283330e-17, 6.73155982e-17, 4.79364186e-17,\n",
      "       3.39946191e-17, 2.40097422e-17]), 'dnde_ferr': array([0.05354457, 0.04711782, 0.0412676 , 0.03604834, 0.03152637,\n",
      "       0.0277767 , 0.02487024, 0.02284745, 0.02168415, 0.02127278,\n",
      "       0.02144042, 0.02199443, 0.02276448, 0.02362299, 0.02448759,\n",
      "       0.0253156 , 0.02609738, 0.02685093, 0.02761805, 0.02846094,\n",
      "       0.0294582 , 0.03069918, 0.03227617, 0.0342755 , 0.03676916,\n",
      "       0.03980943, 0.04342743, 0.0476354 , 0.05243096, 0.05780194,\n",
      "       0.06373041, 0.07019568, 0.07717627, 0.08465106, 0.09259981,\n",
      "       0.10100349, 0.10984426, 0.11910549, 0.1287716 , 0.13882804,\n",
      "       0.14926112, 0.16005798, 0.17120646, 0.18269509, 0.19451302,\n",
      "       0.20664998, 0.21909621, 0.2318425 , 0.24488012, 0.25820081]), 'pivot_energy': 447.3532658881998}}}\n"
     ]
    }
   ],
   "source": [
    "ext = gta.extension('4FGL J0319.8+4130')"
   ]
  },
  {
   "cell_type": "markdown",
   "metadata": {},
   "source": [
    "Now we've computed the extension of the source, lets take a look."
   ]
  },
  {
   "cell_type": "code",
   "execution_count": 29,
   "metadata": {},
   "outputs": [
    {
     "data": {
      "text/plain": [
       "0.024473919882439077"
      ]
     },
     "execution_count": 29,
     "metadata": {},
     "output_type": "execute_result"
    }
   ],
   "source": [
    "ext['ts_ext']"
   ]
  },
  {
   "cell_type": "markdown",
   "metadata": {},
   "source": [
    "There is a great deal of information in the numpy array produced by the extension algorithm. Luckily however, we are given a test statistic of extension. This test statistic gives us an indication as to how extended a source is. Remember, the square root of the TS is the significance! Thus our threshold for claiming extension is $TS = 25$ or $5 \\sigma$. Our TS of extension is 0.05(ish) is far below this, and thus our hypothesis that NGC 1275 is a point source, remains correct. \n",
    "\n",
    "We can also look at the other parameters from the extension fit, but this is rather pointless considering that the source isn't extended! I'll leave it to your curiosity to explore. \n",
    "\n",
    "There are two other useful tools we'll explore with Fermipy for point source analysis. The first is localisation, which iteratively tests the position of our source in a whole load of different places, thus shifting our source position to the most likely place in the model. When we add our sources to the model from the catalogue, it takes the RA and Dec from the catalogued position. However, this might not always be the most accurate. In particular, we can use localisation to improve the positional accuracy of sources added with the find sources algorithm. Lets give it a go."
   ]
  },
  {
   "cell_type": "code",
   "execution_count": 30,
   "metadata": {},
   "outputs": [
    {
     "name": "stderr",
     "output_type": "stream",
     "text": [
      "2021-12-03 08:04:41 INFO    GTAnalysis.localize(): Running localization for 4FGL J0319.8+4130\n",
      "/miniconda3/envs/fermipy-v1-0-1/lib/python3.7/site-packages/scipy/optimize/minpack.py:834: OptimizeWarning: Covariance of the parameters could not be estimated\n",
      "  category=OptimizeWarning)\n",
      "2021-12-03 08:04:59 WARNING GTAnalysis._localize(): Best-fit position outside of search region.\n",
      "2021-12-03 08:04:59 WARNING GTAnalysis._localize(): Localization failed.  Keeping existing position.\n",
      "2021-12-03 08:04:59 INFO    GTAnalysis._localize(): Localization completed with new position:\n",
      "(  ra, dec) = (   49.9101 +/-   0.0065,   41.4765 +/-   0.0029)\n",
      "(glon,glat) = (  150.5697 +/-   0.0056,  -13.3073 +/-   0.0044)\n",
      "offset =   0.0503 r68 =   0.0066 r95 =   0.0107 r99 =   0.0133\n",
      "2021-12-03 08:04:59 INFO    GTAnalysis._localize(): LogLike:  -184425.291 DeltaLogLike:      -34.937\n",
      "2021-12-03 08:04:59 INFO    GTAnalysis.localize(): Finished localization.\n",
      "2021-12-03 08:05:09 WARNING GTAnalysis.localize(): Saving TS maps in .npy files is disabled b/c of incompatibilities in python3, remove the maps from the /workdir/4fgl_j0319.8+4130_loc.npy\n",
      "2021-12-03 08:05:09 INFO    GTAnalysis.localize(): Execution time: 27.85 s\n"
     ]
    }
   ],
   "source": [
    "loc = gta.localize('4FGL J0319.8+4130')"
   ]
  },
  {
   "cell_type": "markdown",
   "metadata": {},
   "source": [
    "And we're done. Lets take a look inside the numpy array to see our new position."
   ]
  },
  {
   "cell_type": "code",
   "execution_count": 31,
   "metadata": {},
   "outputs": [
    {
     "data": {
      "text/plain": [
       "(49.91007503134438, 41.476535755758064)"
      ]
     },
     "execution_count": 31,
     "metadata": {},
     "output_type": "execute_result"
    }
   ],
   "source": [
    "loc['ra'], loc['dec']"
   ]
  },
  {
   "cell_type": "markdown",
   "metadata": {},
   "source": [
    "These are our best fit coordinates for NGC 1275, given our year of data. We can also see that they really aren't dramatically different to what they originally were. In fact, it would be very surprising and slightly worrying if they were!\n",
    "\n",
    "Now on to the final key bit of point source analysis: the light-curve. Light-curves are one of the most useful, and powerful tools in an astronomers arsenal, an easy way to proble whether the flux of a source varies in time. Unfortunately, in Fermipy, they take a long time to make, due to the fact we need to compute the livetime in each bin. The command to produce a light-curve is slightly more complex than just putting in the name of our source, so we will go through these together now. \n",
    "\n",
    "First, we have the name of our source (obviously). Then we have the number of time bins in our light-curve. As we have 1 year of data, we can look at the flux in monthly bins. This is a sensible timescale, and with most objects it is difficult to see anything at all with smaller bins. Multithread allows our lightcurve algortithm to split up its jobs between the seperate cores on our computer, thus allowing us to simultaneously compute several bins at once. This has the effect of sppeding up our lightcurve by a factor of 2-4, with the side effect of essentially bricking our computer until its finished. Scaled source maps allow us again a huge advantage in computing speeds, by sacrificing a little accuracy in our modelling. This loss of accuracy is normally negligible, especially for an off the plane source like NGC 1275. Finally, by not saving bin data, we will prevent Fermipy from creating a seperate folder full of information for each bin. This can be a bit of an issue, especially when we are running a 100+ bin lightcurve!\n",
    "\n",
    "Lets run it and see what happens."
   ]
  },
  {
   "cell_type": "code",
   "execution_count": 32,
   "metadata": {},
   "outputs": [
    {
     "name": "stderr",
     "output_type": "stream",
     "text": [
      "2021-12-03 08:05:37 INFO    GTAnalysis.lightcurve(): Computing Lightcurve for 4FGL J0319.8+4130\n",
      "WARNINGWARNING: FITSFixedWarning: The WCS transformation has more axes (2) than the image it is associated with (0) [astropy.wcs.wcs]\n",
      ": FITSFixedWarning: The WCS transformation has more axes (2) than the image it is associated with (0) [astropy.wcs.wcs]\n",
      "WARNINGWARNING: FITSFixedWarning: The WCS transformation has more axes (2) than the image it is associated with (0) [astropy.wcs.wcs]: FITSFixedWarning: The WCS transformation has more axes (2) than the image it is associated with (0) [astropy.wcs.wcs]\n",
      "\n",
      "2021-12-03 08:05:41 INFO    lightcurve_289252802_291880802 GTAnalysis._process_lc_bin(): Fitting time range 289252802 291880802\n"
     ]
    },
    {
     "name": "stdout",
     "output_type": "stream",
     "text": [
      "Analysis failed in time range 289252802 291880802\n",
      "<class 'ValueError'>\n"
     ]
    },
    {
     "name": "stderr",
     "output_type": "stream",
     "text": [
      "2021-12-03 08:05:41 INFO    lightcurve_283996802_286624802 GTAnalysis._process_lc_bin(): Fitting time range 283996802 286624802\n"
     ]
    },
    {
     "name": "stdout",
     "output_type": "stream",
     "text": [
      "Analysis failed in time range 283996802 286624802\n"
     ]
    },
    {
     "name": "stderr",
     "output_type": "stream",
     "text": [
      "WARNING: FITSFixedWarning: The WCS transformation has more axes (2) than the image it is associated with (0) [astropy.wcs.wcs]"
     ]
    },
    {
     "name": "stdout",
     "output_type": "stream",
     "text": [
      "<class 'ValueError'>"
     ]
    },
    {
     "name": "stderr",
     "output_type": "stream",
     "text": [
      "\n"
     ]
    },
    {
     "name": "stdout",
     "output_type": "stream",
     "text": [
      "\n"
     ]
    },
    {
     "name": "stderr",
     "output_type": "stream",
     "text": [
      "2021-12-03 08:05:41 INFO    lightcurve_286624802_289252802 GTAnalysis._process_lc_bin(): Fitting time range 286624802 289252802\n"
     ]
    },
    {
     "name": "stdout",
     "output_type": "stream",
     "text": [
      "Analysis failed in time range 286624802 289252802\n",
      "<class 'ValueError'>\n"
     ]
    },
    {
     "name": "stderr",
     "output_type": "stream",
     "text": [
      "WARNING: FITSFixedWarning: The WCS transformation has more axes (2) than the image it is associated with (0) [astropy.wcs.wcs]\n",
      "WARNING: FITSFixedWarning: The WCS transformation has more axes (2) than the image it is associated with (0) [astropy.wcs.wcs]"
     ]
    },
    {
     "ename": "KeyError",
     "evalue": "'config'",
     "output_type": "error",
     "traceback": [
      "\u001b[0;31m---------------------------------------------------------------------------\u001b[0m",
      "\u001b[0;31mKeyError\u001b[0m                                  Traceback (most recent call last)",
      "\u001b[0;32m/tmp/ipykernel_623/578416402.py\u001b[0m in \u001b[0;36m<module>\u001b[0;34m\u001b[0m\n\u001b[1;32m      1\u001b[0m lc = gta.lightcurve('4FGL J0319.8+4130', nbins=12, multithread=True,\n\u001b[0;32m----> 2\u001b[0;31m                     use_scaled_srcmap=True, save_bin_data=False)\n\u001b[0m",
      "\u001b[0;32m/miniconda3/envs/fermipy-v1-0-1/lib/python3.7/site-packages/fermipy/lightcurve.py\u001b[0m in \u001b[0;36mlightcurve\u001b[0;34m(self, name, **kwargs)\u001b[0m\n\u001b[1;32m    287\u001b[0m         \u001b[0mself\u001b[0m\u001b[0;34m.\u001b[0m\u001b[0mlogger\u001b[0m\u001b[0;34m.\u001b[0m\u001b[0minfo\u001b[0m\u001b[0;34m(\u001b[0m\u001b[0;34m'Computing Lightcurve for %s'\u001b[0m \u001b[0;34m%\u001b[0m \u001b[0mname\u001b[0m\u001b[0;34m)\u001b[0m\u001b[0;34m\u001b[0m\u001b[0;34m\u001b[0m\u001b[0m\n\u001b[1;32m    288\u001b[0m \u001b[0;34m\u001b[0m\u001b[0m\n\u001b[0;32m--> 289\u001b[0;31m         \u001b[0mo\u001b[0m \u001b[0;34m=\u001b[0m \u001b[0mself\u001b[0m\u001b[0;34m.\u001b[0m\u001b[0m_make_lc\u001b[0m\u001b[0;34m(\u001b[0m\u001b[0mname\u001b[0m\u001b[0;34m,\u001b[0m \u001b[0;34m**\u001b[0m\u001b[0mconfig\u001b[0m\u001b[0;34m)\u001b[0m\u001b[0;34m\u001b[0m\u001b[0;34m\u001b[0m\u001b[0m\n\u001b[0m\u001b[1;32m    290\u001b[0m         filename = utils.format_filename(self.workdir, 'lightcurve',\n\u001b[1;32m    291\u001b[0m                                          prefix=[config['prefix'],\n",
      "\u001b[0;32m/miniconda3/envs/fermipy-v1-0-1/lib/python3.7/site-packages/fermipy/lightcurve.py\u001b[0m in \u001b[0;36m_make_lc\u001b[0;34m(self, name, **kwargs)\u001b[0m\n\u001b[1;32m    441\u001b[0m         \u001b[0;32mif\u001b[0m \u001b[0;32mnot\u001b[0m \u001b[0mkwargs\u001b[0m\u001b[0;34m.\u001b[0m\u001b[0mget\u001b[0m\u001b[0;34m(\u001b[0m\u001b[0;34m'save_bin_data'\u001b[0m\u001b[0;34m,\u001b[0m \u001b[0;32mFalse\u001b[0m\u001b[0;34m)\u001b[0m\u001b[0;34m:\u001b[0m\u001b[0;34m\u001b[0m\u001b[0;34m\u001b[0m\u001b[0m\n\u001b[1;32m    442\u001b[0m             \u001b[0;32mfor\u001b[0m \u001b[0mm\u001b[0m \u001b[0;32min\u001b[0m \u001b[0mmapo\u001b[0m\u001b[0;34m:\u001b[0m\u001b[0;34m\u001b[0m\u001b[0;34m\u001b[0m\u001b[0m\n\u001b[0;32m--> 443\u001b[0;31m                 \u001b[0mshutil\u001b[0m\u001b[0;34m.\u001b[0m\u001b[0mrmtree\u001b[0m\u001b[0;34m(\u001b[0m\u001b[0mm\u001b[0m\u001b[0;34m[\u001b[0m\u001b[0;34m'config'\u001b[0m\u001b[0;34m]\u001b[0m\u001b[0;34m[\u001b[0m\u001b[0;34m'fileio'\u001b[0m\u001b[0;34m]\u001b[0m\u001b[0;34m[\u001b[0m\u001b[0;34m'outdir'\u001b[0m\u001b[0;34m]\u001b[0m\u001b[0;34m)\u001b[0m\u001b[0;34m\u001b[0m\u001b[0;34m\u001b[0m\u001b[0m\n\u001b[0m\u001b[1;32m    444\u001b[0m \u001b[0;34m\u001b[0m\u001b[0m\n\u001b[1;32m    445\u001b[0m         \u001b[0mo\u001b[0m \u001b[0;34m=\u001b[0m \u001b[0mself\u001b[0m\u001b[0;34m.\u001b[0m\u001b[0m_create_lc_dict\u001b[0m\u001b[0;34m(\u001b[0m\u001b[0mname\u001b[0m\u001b[0;34m,\u001b[0m \u001b[0mtimes\u001b[0m\u001b[0;34m)\u001b[0m\u001b[0;34m\u001b[0m\u001b[0;34m\u001b[0m\u001b[0m\n",
      "\u001b[0;31mKeyError\u001b[0m: 'config'"
     ]
    },
    {
     "name": "stderr",
     "output_type": "stream",
     "text": [
      "\n",
      "2021-12-03 08:05:41 INFO    lightcurve_291880802_294508802 GTAnalysis._process_lc_bin(): Fitting time range 291880802 294508802\n"
     ]
    },
    {
     "name": "stdout",
     "output_type": "stream",
     "text": [
      "Analysis failed in time range 291880802 294508802\n",
      "<class 'ValueError'>\n"
     ]
    },
    {
     "name": "stderr",
     "output_type": "stream",
     "text": [
      "WARNING: FITSFixedWarning: The WCS transformation has more axes (2) than the image it is associated with (0) [astropy.wcs.wcs]\n",
      "2021-12-03 08:05:45 INFO    lightcurve_294508802_297136802 GTAnalysis._process_lc_bin(): Fitting time range 294508802 297136802\n"
     ]
    },
    {
     "name": "stdout",
     "output_type": "stream",
     "text": [
      "Analysis failed in time range 294508802 297136802\n",
      "<class 'ValueError'>\n"
     ]
    },
    {
     "name": "stderr",
     "output_type": "stream",
     "text": [
      "WARNING: FITSFixedWarning: The WCS transformation has more axes (2) than the image it is associated with (0) [astropy.wcs.wcs]\n",
      "2021-12-03 08:05:45 INFO    lightcurve_299764802_302392802 GTAnalysis._process_lc_bin(): Fitting time range 299764802 302392802\n",
      "2021-12-03 08:05:45 INFO    lightcurve_297136802_299764802 GTAnalysis._process_lc_bin(): Fitting time range 297136802 299764802\n"
     ]
    },
    {
     "name": "stdout",
     "output_type": "stream",
     "text": [
      "Analysis failed in time range 299764802 302392802Analysis failed in time range 297136802 299764802\n",
      "\n",
      "<class 'ValueError'>\n",
      "<class 'ValueError'>\n"
     ]
    },
    {
     "name": "stderr",
     "output_type": "stream",
     "text": [
      "WARNING: FITSFixedWarning: The WCS transformation has more axes (2) than the image it is associated with (0) [astropy.wcs.wcs]\n",
      "WARNING: FITSFixedWarning: The WCS transformation has more axes (2) than the image it is associated with (0) [astropy.wcs.wcs]\n",
      "2021-12-03 08:05:45 INFO    lightcurve_302392802_305020802 GTAnalysis._process_lc_bin(): Fitting time range 302392802 305020802\n"
     ]
    },
    {
     "name": "stdout",
     "output_type": "stream",
     "text": [
      "Analysis failed in time range 302392802 305020802\n",
      "<class 'ValueError'>\n"
     ]
    },
    {
     "name": "stderr",
     "output_type": "stream",
     "text": [
      "WARNING: FITSFixedWarning: The WCS transformation has more axes (2) than the image it is associated with (0) [astropy.wcs.wcs]\n",
      "2021-12-03 08:05:49 INFO    lightcurve_305020802_307648802 GTAnalysis._process_lc_bin(): Fitting time range 305020802 307648802\n"
     ]
    },
    {
     "name": "stdout",
     "output_type": "stream",
     "text": [
      "Analysis failed in time range 305020802 307648802\n",
      "<class 'ValueError'>\n"
     ]
    },
    {
     "name": "stderr",
     "output_type": "stream",
     "text": [
      "2021-12-03 08:05:49 INFO    lightcurve_307648802_310276802 GTAnalysis._process_lc_bin(): Fitting time range 307648802 310276802\n"
     ]
    },
    {
     "name": "stdout",
     "output_type": "stream",
     "text": [
      "Analysis failed in time range 307648802 310276802\n",
      "<class 'ValueError'>\n"
     ]
    },
    {
     "name": "stderr",
     "output_type": "stream",
     "text": [
      "2021-12-03 08:05:49 INFO    lightcurve_310276802_312904802 GTAnalysis._process_lc_bin(): Fitting time range 310276802 312904802\n"
     ]
    },
    {
     "name": "stdout",
     "output_type": "stream",
     "text": [
      "Analysis failed in time range 310276802 312904802\n",
      "<class 'ValueError'>\n"
     ]
    },
    {
     "name": "stderr",
     "output_type": "stream",
     "text": [
      "2021-12-03 08:05:49 INFO    lightcurve_312904802_315532802 GTAnalysis._process_lc_bin(): Fitting time range 312904802 315532802\n"
     ]
    },
    {
     "name": "stdout",
     "output_type": "stream",
     "text": [
      "Analysis failed in time range 312904802 315532802\n",
      "<class 'ValueError'>\n"
     ]
    }
   ],
   "source": [
    "lc = gta.lightcurve('4FGL J0319.8+4130', nbins=12, multithread=True,\n",
    "                    use_scaled_srcmap=True, save_bin_data=False)"
   ]
  },
  {
   "cell_type": "markdown",
   "metadata": {},
   "source": [
    "gta.lightcurve will not produce diagnostic plots, so we need to plot these ourselves. This code will plot it for you, but I recommend that you don't try and copy it. Its s##t, and was written for a very tempramental Centos 7 OS setup. "
   ]
  },
  {
   "cell_type": "code",
   "execution_count": 24,
   "metadata": {
    "scrolled": false
   },
   "outputs": [
    {
     "data": {
      "image/png": "[encoded data removed]",
      "text/plain": [
       "<matplotlib.figure.Figure at 0x7f7bdf945a50>"
      ]
     },
     "metadata": {
      "needs_background": "light"
     },
     "output_type": "display_data"
    }
   ],
   "source": [
    "ts_1 = lc['ts']\n",
    "tmin_1 = lc['tmin_mjd']\n",
    "tmax_1 = lc['tmax_mjd']\n",
    "flux_1 = lc['eflux']\n",
    "ul_1 = lc['eflux_ul95']\n",
    "flux_err_1 = lc['eflux_err']\n",
    "tcen = []\n",
    "i = 0\n",
    "\n",
    "ts = []\n",
    "tmin = []\n",
    "tmax = []\n",
    "flux = []\n",
    "ul = []\n",
    "flux_err = []\n",
    "i = 0\n",
    "while i < len(ts_1):\n",
    "    ts.append(ts_1[i])\n",
    "    tmin.append(tmin_1[i])\n",
    "    tmax.append(tmax_1[i])\n",
    "    flux.append(flux_1[i])\n",
    "    ul.append(ul_1[i])\n",
    "    flux_err.append(flux_err_1[i])\n",
    "    i = i + 1\n",
    "\n",
    "\n",
    "where_are_NaNs = np.isnan(ts)\n",
    "i = 0\n",
    "while i < len(where_are_NaNs):\n",
    "    if where_are_NaNs[i]==True:\n",
    "        ts[i] = 0\n",
    "        tmin[i] = 0\n",
    "        tmax[i] = 0\n",
    "        flux[i] = 0\n",
    "        ul[i] = 0\n",
    "        flux_err[i] = 0\n",
    "        i = i + 1\n",
    "    else:\n",
    "        i = i + 1\n",
    "\n",
    "i = 0\n",
    "while i < len(ts):\n",
    "    if ts[i] == 0:\n",
    "        ts.remove(ts[i])\n",
    "        tmin.remove(tmin[i])\n",
    "        tmax.remove(tmax[i])\n",
    "        flux.remove(flux[i])\n",
    "        ul.remove(ul[i])\n",
    "        flux_err.remove(flux_err[i])\n",
    "        i = i - 1\n",
    "    i = i + 1\n",
    "\n",
    "i = 0\n",
    "while i < len(tmin):\n",
    "    t = (tmin[i] + tmax[i])/2\n",
    "    tcen.append(t)\n",
    "    i = i + 1\n",
    "\n",
    "flux_plot = []\n",
    "flux_err_plot = []\n",
    "ts_int = []\n",
    "uplim_bool = []\n",
    "j = 0\n",
    "\n",
    "while j < len(ts):\n",
    "    ts_int.append(int(ts[j]))\n",
    "    \n",
    "    if ts_int[j] < 4:                ### CHANGE TS THRESHOLD HERE\n",
    "        flux_plot.append(ul[j])\n",
    "        uplim_bool.append(1)\n",
    "        flux_err_plot.append(2e-6)\n",
    "        \n",
    "    else:\n",
    "        flux_plot.append(flux[j])\n",
    "        uplim_bool.append(0)\n",
    "        flux_err_plot.append(flux_err[j])\n",
    "    j = j + 1\n",
    "    \n",
    "uplims = np.array(uplim_bool, dtype = bool)\n",
    "\n",
    "low_xerr = []\n",
    "k = 0\n",
    "\n",
    "while k < len(tcen):\n",
    "    a = tcen[k] - tmin[k]\n",
    "    low_xerr.append(a)\n",
    "    k = k + 1\n",
    "high_xerr = low_xerr\n",
    "    \n",
    "xerr = [low_xerr, high_xerr]\n",
    "\n",
    "fig = plt.subplots(figsize=(14, 8))\n",
    "plt.errorbar(tcen, flux_plot, xerr = xerr, yerr = flux_err_plot,\n",
    "             uplims = uplims, linestyle = 'None', color = 'k',\n",
    "             marker = 'None')\n",
    "plt.title('NGC 1275 Light-Curve')\n",
    "plt.xlabel('Time [MJD]')\n",
    "plt.ylabel('Flux MeV cm^(-2) s^(-1)')\n",
    "plt.yscale('log')\n",
    "plt.xlabel(\"Time (MJD)\")\n",
    "plt.ylabel(\"Flux ($MeV cm^{-2} s^{-1}$)\")\n",
    "plt.savefig('NGC_1275_lc', dpi=400)"
   ]
  },
  {
   "cell_type": "markdown",
   "metadata": {},
   "source": [
    "Lets have a look!\n",
    "\n",
    "![lc](img/NGC_1275_lc.png)\n",
    "\n",
    "That is verrrry variable! NGC 1275 is a very gamma bright source, and is famous for it's variability (well, as famous as a gamma-ray emitting radio galaxy can be). Anthony reckons he's gotten the bin sizes down to 12 hours before, which is frankly astounding for an object of this nature. Again, we can fit a curve to this data, but for now we are done!\n",
    "\n",
    "Congratulations, you have just executed a more or less complete analysis of a radio galaxy using a NASA space telescope! \n",
    "\n",
    "![welldone](img/welldone.jpg)\n",
    "\n",
    "If you are ready for more of a challenge, then lets look at the Crab Nebula. The Crab Nebula consists of a pulsar wind nebula (4FGL J0534.5+2201e) and it's central pulsar both are spatially coincident with eachother, however the Crab is on the galactic plane, so this is more of a challenge for us to model. \n",
    "\n",
    "To look at the Crab, you will need to download a dataset for it (following the instructions in tutorial 1) and then write a config (you can copy and change the NGC 1275 one) and execute an analysis chain in Fermipy. I'd recommend setting up a seperate directory to do this in. The methods should be largely the same! I've studied the Crab as a project before, so if you have any issues, please let me know!"
   ]
  }
 ],
 "metadata": {
  "kernelspec": {
   "display_name": "fermipy-v1-0-1",
   "language": "python",
   "name": "fermipy-v1-0-1"
  },
  "language_info": {
   "codemirror_mode": {
    "name": "ipython",
    "version": 3
   },
   "file_extension": ".py",
   "mimetype": "text/x-python",
   "name": "python",
   "nbconvert_exporter": "python",
   "pygments_lexer": "ipython3",
   "version": "3.7.12"
  }
 },
 "nbformat": 4,
 "nbformat_minor": 2
}
